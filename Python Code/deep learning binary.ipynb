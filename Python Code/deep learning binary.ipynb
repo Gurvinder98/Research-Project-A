{
 "cells": [
  {
   "cell_type": "code",
   "execution_count": 1,
   "id": "82f0d3da",
   "metadata": {},
   "outputs": [],
   "source": [
    "import pandas as pd\n",
    "import numpy as np"
   ]
  },
  {
   "cell_type": "code",
   "execution_count": 2,
   "id": "3e317e7b",
   "metadata": {},
   "outputs": [],
   "source": [
    "train_df = pd.read_csv('UNSW_NB15_train-set.csv').drop(['id'], axis=1)\n"
   ]
  },
  {
   "cell_type": "code",
   "execution_count": 18,
   "id": "e0803466",
   "metadata": {},
   "outputs": [],
   "source": [
    "import keras\n",
    "from keras.models import Sequential   # importing Sequential model\n",
    "from keras.layers import Dense        # importing Dense layers\n",
    "from keras.wrappers.scikit_learn import KerasClassifier\n"
   ]
  },
  {
   "cell_type": "code",
   "execution_count": 16,
   "id": "587e6cb1",
   "metadata": {},
   "outputs": [],
   "source": [
    "from sklearn.model_selection import train_test_split, cross_val_score, KFold\n",
    "from sklearn.preprocessing import RobustScaler"
   ]
  },
  {
   "cell_type": "code",
   "execution_count": 10,
   "id": "e1b4fcae",
   "metadata": {},
   "outputs": [],
   "source": [
    "# separate categroicals with non categoricals \n",
    "output1 = train_df[['attack_cat']].copy()  # multiclass\n",
    "output2 = train_df[['label']].copy()       # binary\n",
    "\n",
    "input_categroicals = train_df.dtypes[train_df.dtypes == object].index.tolist()[:-1]\n",
    "input_numericals = train_df.dtypes[train_df.dtypes != object].index.tolist()[:-1]\n",
    "\n",
    "input_categorical_values = train_df[input_categroicals].copy()\n",
    "input_numerical_values = train_df[input_numericals].copy()"
   ]
  },
  {
   "cell_type": "code",
   "execution_count": 12,
   "id": "e89da884",
   "metadata": {},
   "outputs": [
    {
     "data": {
      "text/html": [
       "<div>\n",
       "<style scoped>\n",
       "    .dataframe tbody tr th:only-of-type {\n",
       "        vertical-align: middle;\n",
       "    }\n",
       "\n",
       "    .dataframe tbody tr th {\n",
       "        vertical-align: top;\n",
       "    }\n",
       "\n",
       "    .dataframe thead th {\n",
       "        text-align: right;\n",
       "    }\n",
       "</style>\n",
       "<table border=\"1\" class=\"dataframe\">\n",
       "  <thead>\n",
       "    <tr style=\"text-align: right;\">\n",
       "      <th></th>\n",
       "      <th>dur</th>\n",
       "      <th>spkts</th>\n",
       "      <th>dpkts</th>\n",
       "      <th>sbytes</th>\n",
       "      <th>dbytes</th>\n",
       "      <th>rate</th>\n",
       "      <th>sttl</th>\n",
       "      <th>dttl</th>\n",
       "      <th>sload</th>\n",
       "      <th>dload</th>\n",
       "      <th>...</th>\n",
       "      <th>ct_dst_ltm</th>\n",
       "      <th>ct_src_dport_ltm</th>\n",
       "      <th>ct_dst_sport_ltm</th>\n",
       "      <th>ct_dst_src_ltm</th>\n",
       "      <th>is_ftp_login</th>\n",
       "      <th>ct_ftp_cmd</th>\n",
       "      <th>ct_flw_http_mthd</th>\n",
       "      <th>ct_src_ltm</th>\n",
       "      <th>ct_srv_dst</th>\n",
       "      <th>is_sm_ips_ports</th>\n",
       "    </tr>\n",
       "  </thead>\n",
       "  <tbody>\n",
       "    <tr>\n",
       "      <th>0</th>\n",
       "      <td>0.179469</td>\n",
       "      <td>0.4</td>\n",
       "      <td>0.2</td>\n",
       "      <td>-0.131902</td>\n",
       "      <td>0.007260</td>\n",
       "      <td>-0.025220</td>\n",
       "      <td>-0.010417</td>\n",
       "      <td>0.892857</td>\n",
       "      <td>-0.009738</td>\n",
       "      <td>0.253129</td>\n",
       "      <td>...</td>\n",
       "      <td>-0.166667</td>\n",
       "      <td>0.00</td>\n",
       "      <td>0.0</td>\n",
       "      <td>-0.181818</td>\n",
       "      <td>0.0</td>\n",
       "      <td>0.0</td>\n",
       "      <td>0.0</td>\n",
       "      <td>-0.285714</td>\n",
       "      <td>-0.3</td>\n",
       "      <td>0.0</td>\n",
       "    </tr>\n",
       "    <tr>\n",
       "      <th>1</th>\n",
       "      <td>0.970450</td>\n",
       "      <td>1.2</td>\n",
       "      <td>3.6</td>\n",
       "      <td>0.233129</td>\n",
       "      <td>37.976407</td>\n",
       "      <td>-0.025185</td>\n",
       "      <td>-1.000000</td>\n",
       "      <td>0.884921</td>\n",
       "      <td>-0.009803</td>\n",
       "      <td>18.032918</td>\n",
       "      <td>...</td>\n",
       "      <td>-0.166667</td>\n",
       "      <td>0.00</td>\n",
       "      <td>0.0</td>\n",
       "      <td>-0.090909</td>\n",
       "      <td>0.0</td>\n",
       "      <td>0.0</td>\n",
       "      <td>0.0</td>\n",
       "      <td>-0.285714</td>\n",
       "      <td>0.2</td>\n",
       "      <td>0.0</td>\n",
       "    </tr>\n",
       "    <tr>\n",
       "      <th>2</th>\n",
       "      <td>2.427244</td>\n",
       "      <td>0.6</td>\n",
       "      <td>1.4</td>\n",
       "      <td>-0.050613</td>\n",
       "      <td>11.816697</td>\n",
       "      <td>-0.025700</td>\n",
       "      <td>-1.000000</td>\n",
       "      <td>0.884921</td>\n",
       "      <td>-0.009880</td>\n",
       "      <td>2.136200</td>\n",
       "      <td>...</td>\n",
       "      <td>0.000000</td>\n",
       "      <td>0.00</td>\n",
       "      <td>0.0</td>\n",
       "      <td>0.000000</td>\n",
       "      <td>0.0</td>\n",
       "      <td>0.0</td>\n",
       "      <td>0.0</td>\n",
       "      <td>-0.142857</td>\n",
       "      <td>0.2</td>\n",
       "      <td>0.0</td>\n",
       "    </tr>\n",
       "    <tr>\n",
       "      <th>3</th>\n",
       "      <td>2.514830</td>\n",
       "      <td>1.0</td>\n",
       "      <td>1.0</td>\n",
       "      <td>0.151840</td>\n",
       "      <td>0.549909</td>\n",
       "      <td>-0.025704</td>\n",
       "      <td>-1.000000</td>\n",
       "      <td>0.884921</td>\n",
       "      <td>-0.009867</td>\n",
       "      <td>0.068652</td>\n",
       "      <td>...</td>\n",
       "      <td>0.000000</td>\n",
       "      <td>0.00</td>\n",
       "      <td>0.0</td>\n",
       "      <td>0.000000</td>\n",
       "      <td>1.0</td>\n",
       "      <td>1.0</td>\n",
       "      <td>0.0</td>\n",
       "      <td>-0.142857</td>\n",
       "      <td>-0.3</td>\n",
       "      <td>0.0</td>\n",
       "    </tr>\n",
       "    <tr>\n",
       "      <th>4</th>\n",
       "      <td>0.670406</td>\n",
       "      <td>0.8</td>\n",
       "      <td>0.4</td>\n",
       "      <td>0.079755</td>\n",
       "      <td>0.094374</td>\n",
       "      <td>-0.025546</td>\n",
       "      <td>0.000000</td>\n",
       "      <td>0.884921</td>\n",
       "      <td>-0.009801</td>\n",
       "      <td>0.091221</td>\n",
       "      <td>...</td>\n",
       "      <td>0.000000</td>\n",
       "      <td>0.25</td>\n",
       "      <td>0.0</td>\n",
       "      <td>3.363636</td>\n",
       "      <td>0.0</td>\n",
       "      <td>0.0</td>\n",
       "      <td>0.0</td>\n",
       "      <td>-0.142857</td>\n",
       "      <td>3.5</td>\n",
       "      <td>0.0</td>\n",
       "    </tr>\n",
       "    <tr>\n",
       "      <th>...</th>\n",
       "      <td>...</td>\n",
       "      <td>...</td>\n",
       "      <td>...</td>\n",
       "      <td>...</td>\n",
       "      <td>...</td>\n",
       "      <td>...</td>\n",
       "      <td>...</td>\n",
       "      <td>...</td>\n",
       "      <td>...</td>\n",
       "      <td>...</td>\n",
       "      <td>...</td>\n",
       "      <td>...</td>\n",
       "      <td>...</td>\n",
       "      <td>...</td>\n",
       "      <td>...</td>\n",
       "      <td>...</td>\n",
       "      <td>...</td>\n",
       "      <td>...</td>\n",
       "      <td>...</td>\n",
       "      <td>...</td>\n",
       "      <td>...</td>\n",
       "    </tr>\n",
       "    <tr>\n",
       "      <th>175336</th>\n",
       "      <td>-0.002355</td>\n",
       "      <td>0.0</td>\n",
       "      <td>-0.2</td>\n",
       "      <td>-0.242331</td>\n",
       "      <td>-0.148820</td>\n",
       "      <td>0.863309</td>\n",
       "      <td>0.000000</td>\n",
       "      <td>-0.115079</td>\n",
       "      <td>0.560186</td>\n",
       "      <td>-0.051967</td>\n",
       "      <td>...</td>\n",
       "      <td>3.666667</td>\n",
       "      <td>5.75</td>\n",
       "      <td>6.0</td>\n",
       "      <td>1.909091</td>\n",
       "      <td>0.0</td>\n",
       "      <td>0.0</td>\n",
       "      <td>0.0</td>\n",
       "      <td>3.000000</td>\n",
       "      <td>2.0</td>\n",
       "      <td>0.0</td>\n",
       "    </tr>\n",
       "    <tr>\n",
       "      <th>175337</th>\n",
       "      <td>0.754692</td>\n",
       "      <td>0.8</td>\n",
       "      <td>0.6</td>\n",
       "      <td>0.145706</td>\n",
       "      <td>0.172414</td>\n",
       "      <td>-0.025544</td>\n",
       "      <td>0.000000</td>\n",
       "      <td>0.884921</td>\n",
       "      <td>-0.009798</td>\n",
       "      <td>0.124133</td>\n",
       "      <td>...</td>\n",
       "      <td>-0.166667</td>\n",
       "      <td>0.00</td>\n",
       "      <td>0.0</td>\n",
       "      <td>-0.090909</td>\n",
       "      <td>0.0</td>\n",
       "      <td>0.0</td>\n",
       "      <td>0.0</td>\n",
       "      <td>-0.285714</td>\n",
       "      <td>-0.3</td>\n",
       "      <td>0.0</td>\n",
       "    </tr>\n",
       "    <tr>\n",
       "      <th>175338</th>\n",
       "      <td>-0.002355</td>\n",
       "      <td>0.0</td>\n",
       "      <td>-0.2</td>\n",
       "      <td>-0.242331</td>\n",
       "      <td>-0.148820</td>\n",
       "      <td>0.863309</td>\n",
       "      <td>0.000000</td>\n",
       "      <td>-0.115079</td>\n",
       "      <td>0.560186</td>\n",
       "      <td>-0.051967</td>\n",
       "      <td>...</td>\n",
       "      <td>0.166667</td>\n",
       "      <td>0.50</td>\n",
       "      <td>1.0</td>\n",
       "      <td>0.909091</td>\n",
       "      <td>0.0</td>\n",
       "      <td>0.0</td>\n",
       "      <td>0.0</td>\n",
       "      <td>0.000000</td>\n",
       "      <td>0.8</td>\n",
       "      <td>0.0</td>\n",
       "    </tr>\n",
       "    <tr>\n",
       "      <th>175339</th>\n",
       "      <td>-0.002355</td>\n",
       "      <td>0.0</td>\n",
       "      <td>-0.2</td>\n",
       "      <td>-0.242331</td>\n",
       "      <td>-0.148820</td>\n",
       "      <td>0.863309</td>\n",
       "      <td>0.000000</td>\n",
       "      <td>-0.115079</td>\n",
       "      <td>0.560186</td>\n",
       "      <td>-0.051967</td>\n",
       "      <td>...</td>\n",
       "      <td>4.666667</td>\n",
       "      <td>7.25</td>\n",
       "      <td>6.5</td>\n",
       "      <td>2.454545</td>\n",
       "      <td>0.0</td>\n",
       "      <td>0.0</td>\n",
       "      <td>0.0</td>\n",
       "      <td>3.857143</td>\n",
       "      <td>2.6</td>\n",
       "      <td>0.0</td>\n",
       "    </tr>\n",
       "    <tr>\n",
       "      <th>175340</th>\n",
       "      <td>-0.002355</td>\n",
       "      <td>0.0</td>\n",
       "      <td>-0.2</td>\n",
       "      <td>-0.242331</td>\n",
       "      <td>-0.148820</td>\n",
       "      <td>0.863309</td>\n",
       "      <td>0.000000</td>\n",
       "      <td>-0.115079</td>\n",
       "      <td>0.560186</td>\n",
       "      <td>-0.051967</td>\n",
       "      <td>...</td>\n",
       "      <td>4.666667</td>\n",
       "      <td>7.25</td>\n",
       "      <td>7.5</td>\n",
       "      <td>2.454545</td>\n",
       "      <td>0.0</td>\n",
       "      <td>0.0</td>\n",
       "      <td>0.0</td>\n",
       "      <td>3.857143</td>\n",
       "      <td>2.6</td>\n",
       "      <td>0.0</td>\n",
       "    </tr>\n",
       "  </tbody>\n",
       "</table>\n",
       "<p>175341 rows × 39 columns</p>\n",
       "</div>"
      ],
      "text/plain": [
       "             dur  spkts  dpkts    sbytes     dbytes      rate      sttl  \\\n",
       "0       0.179469    0.4    0.2 -0.131902   0.007260 -0.025220 -0.010417   \n",
       "1       0.970450    1.2    3.6  0.233129  37.976407 -0.025185 -1.000000   \n",
       "2       2.427244    0.6    1.4 -0.050613  11.816697 -0.025700 -1.000000   \n",
       "3       2.514830    1.0    1.0  0.151840   0.549909 -0.025704 -1.000000   \n",
       "4       0.670406    0.8    0.4  0.079755   0.094374 -0.025546  0.000000   \n",
       "...          ...    ...    ...       ...        ...       ...       ...   \n",
       "175336 -0.002355    0.0   -0.2 -0.242331  -0.148820  0.863309  0.000000   \n",
       "175337  0.754692    0.8    0.6  0.145706   0.172414 -0.025544  0.000000   \n",
       "175338 -0.002355    0.0   -0.2 -0.242331  -0.148820  0.863309  0.000000   \n",
       "175339 -0.002355    0.0   -0.2 -0.242331  -0.148820  0.863309  0.000000   \n",
       "175340 -0.002355    0.0   -0.2 -0.242331  -0.148820  0.863309  0.000000   \n",
       "\n",
       "            dttl     sload      dload  ...  ct_dst_ltm  ct_src_dport_ltm  \\\n",
       "0       0.892857 -0.009738   0.253129  ...   -0.166667              0.00   \n",
       "1       0.884921 -0.009803  18.032918  ...   -0.166667              0.00   \n",
       "2       0.884921 -0.009880   2.136200  ...    0.000000              0.00   \n",
       "3       0.884921 -0.009867   0.068652  ...    0.000000              0.00   \n",
       "4       0.884921 -0.009801   0.091221  ...    0.000000              0.25   \n",
       "...          ...       ...        ...  ...         ...               ...   \n",
       "175336 -0.115079  0.560186  -0.051967  ...    3.666667              5.75   \n",
       "175337  0.884921 -0.009798   0.124133  ...   -0.166667              0.00   \n",
       "175338 -0.115079  0.560186  -0.051967  ...    0.166667              0.50   \n",
       "175339 -0.115079  0.560186  -0.051967  ...    4.666667              7.25   \n",
       "175340 -0.115079  0.560186  -0.051967  ...    4.666667              7.25   \n",
       "\n",
       "        ct_dst_sport_ltm  ct_dst_src_ltm  is_ftp_login  ct_ftp_cmd  \\\n",
       "0                    0.0       -0.181818           0.0         0.0   \n",
       "1                    0.0       -0.090909           0.0         0.0   \n",
       "2                    0.0        0.000000           0.0         0.0   \n",
       "3                    0.0        0.000000           1.0         1.0   \n",
       "4                    0.0        3.363636           0.0         0.0   \n",
       "...                  ...             ...           ...         ...   \n",
       "175336               6.0        1.909091           0.0         0.0   \n",
       "175337               0.0       -0.090909           0.0         0.0   \n",
       "175338               1.0        0.909091           0.0         0.0   \n",
       "175339               6.5        2.454545           0.0         0.0   \n",
       "175340               7.5        2.454545           0.0         0.0   \n",
       "\n",
       "        ct_flw_http_mthd  ct_src_ltm  ct_srv_dst  is_sm_ips_ports  \n",
       "0                    0.0   -0.285714        -0.3              0.0  \n",
       "1                    0.0   -0.285714         0.2              0.0  \n",
       "2                    0.0   -0.142857         0.2              0.0  \n",
       "3                    0.0   -0.142857        -0.3              0.0  \n",
       "4                    0.0   -0.142857         3.5              0.0  \n",
       "...                  ...         ...         ...              ...  \n",
       "175336               0.0    3.000000         2.0              0.0  \n",
       "175337               0.0   -0.285714        -0.3              0.0  \n",
       "175338               0.0    0.000000         0.8              0.0  \n",
       "175339               0.0    3.857143         2.6              0.0  \n",
       "175340               0.0    3.857143         2.6              0.0  \n",
       "\n",
       "[175341 rows x 39 columns]"
      ]
     },
     "execution_count": 12,
     "metadata": {},
     "output_type": "execute_result"
    }
   ],
   "source": [
    "# encoding the values\n",
    "output1 = pd.get_dummies(output1)\n",
    "\n",
    "rbs= RobustScaler()\n",
    "rbs.fit(input_numerical_values)\n",
    "input_numerical_values = pd.DataFrame(rbs.transform(input_numerical_values), columns=input_numericals)\n",
    "input_numerical_values"
   ]
  },
  {
   "cell_type": "code",
   "execution_count": 38,
   "id": "16abf2f8",
   "metadata": {},
   "outputs": [
    {
     "data": {
      "text/plain": [
       "Normal            31.94\n",
       "Generic           22.81\n",
       "Exploits          19.04\n",
       "Fuzzers           10.37\n",
       "DoS                6.99\n",
       "Reconnaissance     5.98\n",
       "Analysis           1.14\n",
       "Backdoor           1.00\n",
       "Shellcode          0.65\n",
       "Worms              0.07\n",
       "Name: attack_cat, dtype: float64"
      ]
     },
     "execution_count": 38,
     "metadata": {},
     "output_type": "execute_result"
    }
   ],
   "source": [
    "(train_df['attack_cat'].value_counts() / train_df.shape[0]).round(4) * 100"
   ]
  },
  {
   "cell_type": "code",
   "execution_count": 39,
   "id": "5a89170f",
   "metadata": {},
   "outputs": [
    {
     "data": {
      "text/html": [
       "<div>\n",
       "<style scoped>\n",
       "    .dataframe tbody tr th:only-of-type {\n",
       "        vertical-align: middle;\n",
       "    }\n",
       "\n",
       "    .dataframe tbody tr th {\n",
       "        vertical-align: top;\n",
       "    }\n",
       "\n",
       "    .dataframe thead th {\n",
       "        text-align: right;\n",
       "    }\n",
       "</style>\n",
       "<table border=\"1\" class=\"dataframe\">\n",
       "  <thead>\n",
       "    <tr style=\"text-align: right;\">\n",
       "      <th></th>\n",
       "      <th>attack_cat_Analysis</th>\n",
       "      <th>attack_cat_Backdoor</th>\n",
       "      <th>attack_cat_DoS</th>\n",
       "      <th>attack_cat_Exploits</th>\n",
       "      <th>attack_cat_Fuzzers</th>\n",
       "      <th>attack_cat_Generic</th>\n",
       "      <th>attack_cat_Normal</th>\n",
       "      <th>attack_cat_Reconnaissance</th>\n",
       "      <th>attack_cat_Shellcode</th>\n",
       "      <th>attack_cat_Worms</th>\n",
       "    </tr>\n",
       "  </thead>\n",
       "  <tbody>\n",
       "    <tr>\n",
       "      <th>0</th>\n",
       "      <td>0</td>\n",
       "      <td>0</td>\n",
       "      <td>0</td>\n",
       "      <td>0</td>\n",
       "      <td>0</td>\n",
       "      <td>0</td>\n",
       "      <td>1</td>\n",
       "      <td>0</td>\n",
       "      <td>0</td>\n",
       "      <td>0</td>\n",
       "    </tr>\n",
       "    <tr>\n",
       "      <th>1</th>\n",
       "      <td>0</td>\n",
       "      <td>0</td>\n",
       "      <td>0</td>\n",
       "      <td>0</td>\n",
       "      <td>0</td>\n",
       "      <td>0</td>\n",
       "      <td>1</td>\n",
       "      <td>0</td>\n",
       "      <td>0</td>\n",
       "      <td>0</td>\n",
       "    </tr>\n",
       "    <tr>\n",
       "      <th>2</th>\n",
       "      <td>0</td>\n",
       "      <td>0</td>\n",
       "      <td>0</td>\n",
       "      <td>0</td>\n",
       "      <td>0</td>\n",
       "      <td>0</td>\n",
       "      <td>1</td>\n",
       "      <td>0</td>\n",
       "      <td>0</td>\n",
       "      <td>0</td>\n",
       "    </tr>\n",
       "    <tr>\n",
       "      <th>3</th>\n",
       "      <td>0</td>\n",
       "      <td>0</td>\n",
       "      <td>0</td>\n",
       "      <td>0</td>\n",
       "      <td>0</td>\n",
       "      <td>0</td>\n",
       "      <td>1</td>\n",
       "      <td>0</td>\n",
       "      <td>0</td>\n",
       "      <td>0</td>\n",
       "    </tr>\n",
       "    <tr>\n",
       "      <th>4</th>\n",
       "      <td>0</td>\n",
       "      <td>0</td>\n",
       "      <td>0</td>\n",
       "      <td>0</td>\n",
       "      <td>0</td>\n",
       "      <td>0</td>\n",
       "      <td>1</td>\n",
       "      <td>0</td>\n",
       "      <td>0</td>\n",
       "      <td>0</td>\n",
       "    </tr>\n",
       "    <tr>\n",
       "      <th>...</th>\n",
       "      <td>...</td>\n",
       "      <td>...</td>\n",
       "      <td>...</td>\n",
       "      <td>...</td>\n",
       "      <td>...</td>\n",
       "      <td>...</td>\n",
       "      <td>...</td>\n",
       "      <td>...</td>\n",
       "      <td>...</td>\n",
       "      <td>...</td>\n",
       "    </tr>\n",
       "    <tr>\n",
       "      <th>175336</th>\n",
       "      <td>0</td>\n",
       "      <td>0</td>\n",
       "      <td>0</td>\n",
       "      <td>0</td>\n",
       "      <td>0</td>\n",
       "      <td>1</td>\n",
       "      <td>0</td>\n",
       "      <td>0</td>\n",
       "      <td>0</td>\n",
       "      <td>0</td>\n",
       "    </tr>\n",
       "    <tr>\n",
       "      <th>175337</th>\n",
       "      <td>0</td>\n",
       "      <td>0</td>\n",
       "      <td>0</td>\n",
       "      <td>0</td>\n",
       "      <td>0</td>\n",
       "      <td>0</td>\n",
       "      <td>0</td>\n",
       "      <td>0</td>\n",
       "      <td>1</td>\n",
       "      <td>0</td>\n",
       "    </tr>\n",
       "    <tr>\n",
       "      <th>175338</th>\n",
       "      <td>0</td>\n",
       "      <td>0</td>\n",
       "      <td>0</td>\n",
       "      <td>0</td>\n",
       "      <td>0</td>\n",
       "      <td>1</td>\n",
       "      <td>0</td>\n",
       "      <td>0</td>\n",
       "      <td>0</td>\n",
       "      <td>0</td>\n",
       "    </tr>\n",
       "    <tr>\n",
       "      <th>175339</th>\n",
       "      <td>0</td>\n",
       "      <td>0</td>\n",
       "      <td>0</td>\n",
       "      <td>0</td>\n",
       "      <td>0</td>\n",
       "      <td>1</td>\n",
       "      <td>0</td>\n",
       "      <td>0</td>\n",
       "      <td>0</td>\n",
       "      <td>0</td>\n",
       "    </tr>\n",
       "    <tr>\n",
       "      <th>175340</th>\n",
       "      <td>0</td>\n",
       "      <td>0</td>\n",
       "      <td>0</td>\n",
       "      <td>0</td>\n",
       "      <td>0</td>\n",
       "      <td>1</td>\n",
       "      <td>0</td>\n",
       "      <td>0</td>\n",
       "      <td>0</td>\n",
       "      <td>0</td>\n",
       "    </tr>\n",
       "  </tbody>\n",
       "</table>\n",
       "<p>175341 rows × 10 columns</p>\n",
       "</div>"
      ],
      "text/plain": [
       "        attack_cat_Analysis  attack_cat_Backdoor  attack_cat_DoS  \\\n",
       "0                         0                    0               0   \n",
       "1                         0                    0               0   \n",
       "2                         0                    0               0   \n",
       "3                         0                    0               0   \n",
       "4                         0                    0               0   \n",
       "...                     ...                  ...             ...   \n",
       "175336                    0                    0               0   \n",
       "175337                    0                    0               0   \n",
       "175338                    0                    0               0   \n",
       "175339                    0                    0               0   \n",
       "175340                    0                    0               0   \n",
       "\n",
       "        attack_cat_Exploits  attack_cat_Fuzzers  attack_cat_Generic  \\\n",
       "0                         0                   0                   0   \n",
       "1                         0                   0                   0   \n",
       "2                         0                   0                   0   \n",
       "3                         0                   0                   0   \n",
       "4                         0                   0                   0   \n",
       "...                     ...                 ...                 ...   \n",
       "175336                    0                   0                   1   \n",
       "175337                    0                   0                   0   \n",
       "175338                    0                   0                   1   \n",
       "175339                    0                   0                   1   \n",
       "175340                    0                   0                   1   \n",
       "\n",
       "        attack_cat_Normal  attack_cat_Reconnaissance  attack_cat_Shellcode  \\\n",
       "0                       1                          0                     0   \n",
       "1                       1                          0                     0   \n",
       "2                       1                          0                     0   \n",
       "3                       1                          0                     0   \n",
       "4                       1                          0                     0   \n",
       "...                   ...                        ...                   ...   \n",
       "175336                  0                          0                     0   \n",
       "175337                  0                          0                     1   \n",
       "175338                  0                          0                     0   \n",
       "175339                  0                          0                     0   \n",
       "175340                  0                          0                     0   \n",
       "\n",
       "        attack_cat_Worms  \n",
       "0                      0  \n",
       "1                      0  \n",
       "2                      0  \n",
       "3                      0  \n",
       "4                      0  \n",
       "...                  ...  \n",
       "175336                 0  \n",
       "175337                 0  \n",
       "175338                 0  \n",
       "175339                 0  \n",
       "175340                 0  \n",
       "\n",
       "[175341 rows x 10 columns]"
      ]
     },
     "execution_count": 39,
     "metadata": {},
     "output_type": "execute_result"
    }
   ],
   "source": [
    "output1"
   ]
  },
  {
   "cell_type": "code",
   "execution_count": 30,
   "id": "f895a706",
   "metadata": {},
   "outputs": [
    {
     "name": "stdout",
     "output_type": "stream",
     "text": [
      "Model: \"sequential_15\"\n",
      "_________________________________________________________________\n",
      " Layer (type)                Output Shape              Param #   \n",
      "=================================================================\n",
      " dense_30 (Dense)            (None, 39)                1560      \n",
      "                                                                 \n",
      " dense_31 (Dense)            (None, 10)                400       \n",
      "                                                                 \n",
      "=================================================================\n",
      "Total params: 1,960\n",
      "Trainable params: 1,960\n",
      "Non-trainable params: 0\n",
      "_________________________________________________________________\n"
     ]
    }
   ],
   "source": [
    "model = Sequential()\n",
    "model.add(Dense(39, input_dim=39, activation='relu'))\n",
    "model.add(Dense(10, activation='softmax'))\n",
    "model.compile(loss='categorical_crossentropy', optimizer='adam', metrics=['accuracy'])\n",
    "model.summary()"
   ]
  },
  {
   "cell_type": "code",
   "execution_count": 31,
   "id": "ffd888db",
   "metadata": {},
   "outputs": [
    {
     "name": "stdout",
     "output_type": "stream",
     "text": [
      "Epoch 1/10\n",
      "5480/5480 [==============================] - 11s 2ms/step - loss: 46.9541 - accuracy: 0.6934\n",
      "Epoch 2/10\n",
      "5480/5480 [==============================] - 10s 2ms/step - loss: 43.3682 - accuracy: 0.7486\n",
      "Epoch 3/10\n",
      "5480/5480 [==============================] - 11s 2ms/step - loss: 30.3333 - accuracy: 0.7603\n",
      "Epoch 4/10\n",
      "5480/5480 [==============================] - 12s 2ms/step - loss: 27.7791 - accuracy: 0.7678\n",
      "Epoch 5/10\n",
      "5480/5480 [==============================] - 11s 2ms/step - loss: 19.6002 - accuracy: 0.7703\n",
      "Epoch 6/10\n",
      "5480/5480 [==============================] - 14s 3ms/step - loss: 13.5532 - accuracy: 0.7757\n",
      "Epoch 7/10\n",
      "5480/5480 [==============================] - 11s 2ms/step - loss: 10.1757 - accuracy: 0.7788\n",
      "Epoch 8/10\n",
      "5480/5480 [==============================] - 11s 2ms/step - loss: 7.2289 - accuracy: 0.7813\n",
      "Epoch 9/10\n",
      "5480/5480 [==============================] - 10s 2ms/step - loss: 1.8347 - accuracy: 0.7779\n",
      "Epoch 10/10\n",
      "5480/5480 [==============================] - 10s 2ms/step - loss: 0.5805 - accuracy: 0.7804\n"
     ]
    },
    {
     "data": {
      "text/plain": [
       "<keras.callbacks.History at 0x2659b08b040>"
      ]
     },
     "execution_count": 31,
     "metadata": {},
     "output_type": "execute_result"
    }
   ],
   "source": [
    "# training the model\n",
    "model.fit(input_numerical_values, output1, epochs=10)"
   ]
  },
  {
   "cell_type": "code",
   "execution_count": 32,
   "id": "8a2533d2",
   "metadata": {},
   "outputs": [
    {
     "name": "stdout",
     "output_type": "stream",
     "text": [
      "Model: \"sequential_16\"\n",
      "_________________________________________________________________\n",
      " Layer (type)                Output Shape              Param #   \n",
      "=================================================================\n",
      " dense_32 (Dense)            (None, 26)                1040      \n",
      "                                                                 \n",
      " dense_33 (Dense)            (None, 10)                270       \n",
      "                                                                 \n",
      "=================================================================\n",
      "Total params: 1,310\n",
      "Trainable params: 1,310\n",
      "Non-trainable params: 0\n",
      "_________________________________________________________________\n"
     ]
    }
   ],
   "source": [
    "model = Sequential()\n",
    "model.add(Dense(26, input_dim=39, activation='relu'))\n",
    "model.add(Dense(10, activation='softmax'))\n",
    "model.compile(loss='categorical_crossentropy', optimizer='adam', metrics=['accuracy'])\n",
    "model.summary()"
   ]
  },
  {
   "cell_type": "code",
   "execution_count": 33,
   "id": "9117d6a5",
   "metadata": {},
   "outputs": [
    {
     "name": "stdout",
     "output_type": "stream",
     "text": [
      "Epoch 1/10\n",
      "5480/5480 [==============================] - 11s 2ms/step - loss: 40.0290 - accuracy: 0.6936\n",
      "Epoch 2/10\n",
      "5480/5480 [==============================] - 10s 2ms/step - loss: 27.4622 - accuracy: 0.7396\n",
      "Epoch 3/10\n",
      "5480/5480 [==============================] - 10s 2ms/step - loss: 28.7468 - accuracy: 0.7481\n",
      "Epoch 4/10\n",
      "5480/5480 [==============================] - 11s 2ms/step - loss: 29.0116 - accuracy: 0.7541\n",
      "Epoch 5/10\n",
      "5480/5480 [==============================] - 10s 2ms/step - loss: 27.7951 - accuracy: 0.7605\n",
      "Epoch 6/10\n",
      "5480/5480 [==============================] - 10s 2ms/step - loss: 19.0058 - accuracy: 0.7646\n",
      "Epoch 7/10\n",
      "5480/5480 [==============================] - 10s 2ms/step - loss: 19.2734 - accuracy: 0.7662\n",
      "Epoch 8/10\n",
      "5480/5480 [==============================] - 12s 2ms/step - loss: 13.8842 - accuracy: 0.7690\n",
      "Epoch 9/10\n",
      "5480/5480 [==============================] - 11s 2ms/step - loss: 10.5784 - accuracy: 0.7747\n",
      "Epoch 10/10\n",
      "5480/5480 [==============================] - 11s 2ms/step - loss: 12.2504 - accuracy: 0.7726\n"
     ]
    },
    {
     "data": {
      "text/plain": [
       "<keras.callbacks.History at 0x2659fa053d0>"
      ]
     },
     "execution_count": 33,
     "metadata": {},
     "output_type": "execute_result"
    }
   ],
   "source": [
    "# training the model\n",
    "model.fit(input_numerical_values, output1, epochs=10)"
   ]
  },
  {
   "cell_type": "code",
   "execution_count": 34,
   "id": "070af7b9",
   "metadata": {},
   "outputs": [
    {
     "name": "stdout",
     "output_type": "stream",
     "text": [
      "Model: \"sequential_17\"\n",
      "_________________________________________________________________\n",
      " Layer (type)                Output Shape              Param #   \n",
      "=================================================================\n",
      " dense_34 (Dense)            (None, 39)                1560      \n",
      "                                                                 \n",
      " dense_35 (Dense)            (None, 26)                1040      \n",
      "                                                                 \n",
      " dense_36 (Dense)            (None, 10)                270       \n",
      "                                                                 \n",
      "=================================================================\n",
      "Total params: 2,870\n",
      "Trainable params: 2,870\n",
      "Non-trainable params: 0\n",
      "_________________________________________________________________\n"
     ]
    }
   ],
   "source": [
    "model = Sequential()\n",
    "model.add(Dense(39, input_dim=39, activation='relu'))\n",
    "model.add(Dense(26, activation='relu'))\n",
    "model.add(Dense(10, activation='softmax'))\n",
    "model.compile(loss='categorical_crossentropy', optimizer='adam', metrics=['accuracy'])\n",
    "model.summary()"
   ]
  },
  {
   "cell_type": "code",
   "execution_count": 35,
   "id": "9a66edeb",
   "metadata": {},
   "outputs": [
    {
     "name": "stdout",
     "output_type": "stream",
     "text": [
      "Epoch 1/10\n",
      "5480/5480 [==============================] - 11s 2ms/step - loss: 29.1444 - accuracy: 0.7162\n",
      "Epoch 2/10\n",
      "5480/5480 [==============================] - 12s 2ms/step - loss: 0.6614 - accuracy: 0.7605\n",
      "Epoch 3/10\n",
      "5480/5480 [==============================] - 10s 2ms/step - loss: 0.5918 - accuracy: 0.7700\n",
      "Epoch 4/10\n",
      "5480/5480 [==============================] - 10s 2ms/step - loss: 0.5688 - accuracy: 0.7737\n",
      "Epoch 5/10\n",
      "5480/5480 [==============================] - 12s 2ms/step - loss: 0.5579 - accuracy: 0.7765\n",
      "Epoch 6/10\n",
      "5480/5480 [==============================] - 12s 2ms/step - loss: 0.5487 - accuracy: 0.7792\n",
      "Epoch 7/10\n",
      "5480/5480 [==============================] - 10s 2ms/step - loss: 0.5424 - accuracy: 0.7801\n",
      "Epoch 8/10\n",
      "5480/5480 [==============================] - 11s 2ms/step - loss: 0.5382 - accuracy: 0.7821\n",
      "Epoch 9/10\n",
      "5480/5480 [==============================] - 10s 2ms/step - loss: 0.5316 - accuracy: 0.7830\n",
      "Epoch 10/10\n",
      "5480/5480 [==============================] - 11s 2ms/step - loss: 0.5280 - accuracy: 0.7851\n"
     ]
    },
    {
     "data": {
      "text/plain": [
       "<keras.callbacks.History at 0x2659b3519a0>"
      ]
     },
     "execution_count": 35,
     "metadata": {},
     "output_type": "execute_result"
    }
   ],
   "source": [
    "# training the model\n",
    "model.fit(input_numerical_values, output1, epochs=10)"
   ]
  },
  {
   "cell_type": "code",
   "execution_count": 41,
   "id": "a1a764fe",
   "metadata": {},
   "outputs": [
    {
     "name": "stdout",
     "output_type": "stream",
     "text": [
      "Model: \"sequential_19\"\n",
      "_________________________________________________________________\n",
      " Layer (type)                Output Shape              Param #   \n",
      "=================================================================\n",
      " dense_40 (Dense)            (None, 39)                1560      \n",
      "                                                                 \n",
      " dense_41 (Dense)            (None, 26)                1040      \n",
      "                                                                 \n",
      " dense_42 (Dense)            (None, 17)                459       \n",
      "                                                                 \n",
      " dense_43 (Dense)            (None, 10)                180       \n",
      "                                                                 \n",
      "=================================================================\n",
      "Total params: 3,239\n",
      "Trainable params: 3,239\n",
      "Non-trainable params: 0\n",
      "_________________________________________________________________\n"
     ]
    }
   ],
   "source": [
    "model = Sequential()\n",
    "model.add(Dense(39, input_dim=39, activation='relu'))\n",
    "model.add(Dense(26, activation='relu'))\n",
    "model.add(Dense(17, activation='relu'))\n",
    "model.add(Dense(10, activation='softmax'))\n",
    "model.compile(loss='categorical_crossentropy', optimizer='adam', metrics=['accuracy'])\n",
    "model.summary()"
   ]
  },
  {
   "cell_type": "code",
   "execution_count": 42,
   "id": "711f58cd",
   "metadata": {},
   "outputs": [
    {
     "name": "stdout",
     "output_type": "stream",
     "text": [
      "Epoch 1/10\n",
      "5480/5480 [==============================] - 45s 8ms/step - loss: 3.5510 - accuracy: 0.7194\n",
      "Epoch 2/10\n",
      "5480/5480 [==============================] - 60s 11ms/step - loss: 0.7289 - accuracy: 0.7640\n",
      "Epoch 3/10\n",
      "5480/5480 [==============================] - 78s 14ms/step - loss: 0.5819 - accuracy: 0.7698\n",
      "Epoch 4/10\n",
      "5480/5480 [==============================] - 109s 20ms/step - loss: 0.5689 - accuracy: 0.7723\n",
      "Epoch 5/10\n",
      "5480/5480 [==============================] - 46s 8ms/step - loss: 0.5692 - accuracy: 0.7765\n",
      "Epoch 6/10\n",
      "5480/5480 [==============================] - 12s 2ms/step - loss: 0.5500 - accuracy: 0.7774\n",
      "Epoch 7/10\n",
      "5480/5480 [==============================] - 10s 2ms/step - loss: 0.5491 - accuracy: 0.7794\n",
      "Epoch 8/10\n",
      "5480/5480 [==============================] - 10s 2ms/step - loss: 0.5396 - accuracy: 0.7795\n",
      "Epoch 9/10\n",
      "5480/5480 [==============================] - 10s 2ms/step - loss: 0.5359 - accuracy: 0.7810\n",
      "Epoch 10/10\n",
      "5480/5480 [==============================] - 9s 2ms/step - loss: 0.5318 - accuracy: 0.7827\n"
     ]
    },
    {
     "data": {
      "text/plain": [
       "<keras.callbacks.History at 0x2659fed9310>"
      ]
     },
     "execution_count": 42,
     "metadata": {},
     "output_type": "execute_result"
    }
   ],
   "source": [
    "# training the model\n",
    "model.fit(input_numerical_values, output1, epochs=10)"
   ]
  },
  {
   "cell_type": "code",
   "execution_count": 43,
   "id": "cde62faa",
   "metadata": {},
   "outputs": [
    {
     "name": "stdout",
     "output_type": "stream",
     "text": [
      "Model: \"sequential_20\"\n",
      "_________________________________________________________________\n",
      " Layer (type)                Output Shape              Param #   \n",
      "=================================================================\n",
      " dense_44 (Dense)            (None, 39)                1560      \n",
      "                                                                 \n",
      " dense_45 (Dense)            (None, 17)                680       \n",
      "                                                                 \n",
      " dense_46 (Dense)            (None, 11)                198       \n",
      "                                                                 \n",
      " dense_47 (Dense)            (None, 10)                120       \n",
      "                                                                 \n",
      "=================================================================\n",
      "Total params: 2,558\n",
      "Trainable params: 2,558\n",
      "Non-trainable params: 0\n",
      "_________________________________________________________________\n"
     ]
    }
   ],
   "source": [
    "model = Sequential()\n",
    "model.add(Dense(39, input_dim=39, activation='relu'))\n",
    "model.add(Dense(17, activation='relu'))\n",
    "model.add(Dense(11, activation='relu'))\n",
    "model.add(Dense(10, activation='softmax'))\n",
    "model.compile(loss='categorical_crossentropy', optimizer='adam', metrics=['accuracy'])\n",
    "model.summary()"
   ]
  },
  {
   "cell_type": "code",
   "execution_count": 44,
   "id": "f182bfc7",
   "metadata": {},
   "outputs": [
    {
     "name": "stdout",
     "output_type": "stream",
     "text": [
      "Epoch 1/10\n",
      "5480/5480 [==============================] - 11s 2ms/step - loss: 6.7781 - accuracy: 0.7084\n",
      "Epoch 2/10\n",
      "5480/5480 [==============================] - 10s 2ms/step - loss: 0.6442 - accuracy: 0.7562\n",
      "Epoch 3/10\n",
      "5480/5480 [==============================] - 10s 2ms/step - loss: 0.6005 - accuracy: 0.7663\n",
      "Epoch 4/10\n",
      "5480/5480 [==============================] - 10s 2ms/step - loss: 0.5821 - accuracy: 0.7694\n",
      "Epoch 5/10\n",
      "5480/5480 [==============================] - 10s 2ms/step - loss: 0.5694 - accuracy: 0.7732\n",
      "Epoch 6/10\n",
      "5480/5480 [==============================] - 10s 2ms/step - loss: 0.5637 - accuracy: 0.7733\n",
      "Epoch 7/10\n",
      "5480/5480 [==============================] - 10s 2ms/step - loss: 0.5526 - accuracy: 0.7770\n",
      "Epoch 8/10\n",
      "5480/5480 [==============================] - 12s 2ms/step - loss: 0.5643 - accuracy: 0.7776\n",
      "Epoch 9/10\n",
      "5480/5480 [==============================] - 10s 2ms/step - loss: 0.5571 - accuracy: 0.7779\n",
      "Epoch 10/10\n",
      "5480/5480 [==============================] - 10s 2ms/step - loss: 0.5461 - accuracy: 0.7790\n"
     ]
    },
    {
     "data": {
      "text/plain": [
       "<keras.callbacks.History at 0x265a2359c10>"
      ]
     },
     "execution_count": 44,
     "metadata": {},
     "output_type": "execute_result"
    }
   ],
   "source": [
    "# training the model\n",
    "model.fit(input_numerical_values, output1, epochs=10)"
   ]
  },
  {
   "cell_type": "code",
   "execution_count": 45,
   "id": "9cfc3bbf",
   "metadata": {},
   "outputs": [
    {
     "name": "stdout",
     "output_type": "stream",
     "text": [
      "Model: \"sequential_21\"\n",
      "_________________________________________________________________\n",
      " Layer (type)                Output Shape              Param #   \n",
      "=================================================================\n",
      " dense_48 (Dense)            (None, 39)                1560      \n",
      "                                                                 \n",
      " dense_49 (Dense)            (None, 11)                440       \n",
      "                                                                 \n",
      " dense_50 (Dense)            (None, 7)                 84        \n",
      "                                                                 \n",
      " dense_51 (Dense)            (None, 10)                80        \n",
      "                                                                 \n",
      "=================================================================\n",
      "Total params: 2,164\n",
      "Trainable params: 2,164\n",
      "Non-trainable params: 0\n",
      "_________________________________________________________________\n"
     ]
    }
   ],
   "source": [
    "model = Sequential()\n",
    "model.add(Dense(39, input_dim=39, activation='relu'))\n",
    "model.add(Dense(11, activation='relu'))\n",
    "model.add(Dense(7, activation='relu'))\n",
    "model.add(Dense(10, activation='softmax'))\n",
    "model.compile(loss='categorical_crossentropy', optimizer='adam', metrics=['accuracy'])\n",
    "model.summary()"
   ]
  },
  {
   "cell_type": "code",
   "execution_count": 46,
   "id": "d22f4e08",
   "metadata": {},
   "outputs": [
    {
     "name": "stdout",
     "output_type": "stream",
     "text": [
      "Epoch 1/10\n",
      "5480/5480 [==============================] - 11s 2ms/step - loss: 4.2997 - accuracy: 0.6645\n",
      "Epoch 2/10\n",
      "5480/5480 [==============================] - 11s 2ms/step - loss: 0.7762 - accuracy: 0.7196\n",
      "Epoch 3/10\n",
      "5480/5480 [==============================] - 11s 2ms/step - loss: 0.6966 - accuracy: 0.7420\n",
      "Epoch 4/10\n",
      "5480/5480 [==============================] - 11s 2ms/step - loss: 0.6293 - accuracy: 0.7538\n",
      "Epoch 5/10\n",
      "5480/5480 [==============================] - 10s 2ms/step - loss: 0.6094 - accuracy: 0.7646\n",
      "Epoch 6/10\n",
      "5480/5480 [==============================] - 10s 2ms/step - loss: 0.5951 - accuracy: 0.7673\n",
      "Epoch 7/10\n",
      "5480/5480 [==============================] - 10s 2ms/step - loss: 0.5885 - accuracy: 0.7695\n",
      "Epoch 8/10\n",
      "5480/5480 [==============================] - 9s 2ms/step - loss: 0.5813 - accuracy: 0.7722\n",
      "Epoch 9/10\n",
      "5480/5480 [==============================] - 9s 2ms/step - loss: 0.5791 - accuracy: 0.7730\n",
      "Epoch 10/10\n",
      "5480/5480 [==============================] - 10s 2ms/step - loss: 0.5750 - accuracy: 0.7745\n"
     ]
    },
    {
     "data": {
      "text/plain": [
       "<keras.callbacks.History at 0x265a25341c0>"
      ]
     },
     "execution_count": 46,
     "metadata": {},
     "output_type": "execute_result"
    }
   ],
   "source": [
    "# training the model\n",
    "model.fit(input_numerical_values, output1, epochs=10)"
   ]
  },
  {
   "cell_type": "code",
   "execution_count": 47,
   "id": "e17f8509",
   "metadata": {},
   "outputs": [
    {
     "name": "stdout",
     "output_type": "stream",
     "text": [
      "Model: \"sequential_22\"\n",
      "_________________________________________________________________\n",
      " Layer (type)                Output Shape              Param #   \n",
      "=================================================================\n",
      " dense_52 (Dense)            (None, 17)                680       \n",
      "                                                                 \n",
      " dense_53 (Dense)            (None, 11)                198       \n",
      "                                                                 \n",
      " dense_54 (Dense)            (None, 7)                 84        \n",
      "                                                                 \n",
      " dense_55 (Dense)            (None, 10)                80        \n",
      "                                                                 \n",
      "=================================================================\n",
      "Total params: 1,042\n",
      "Trainable params: 1,042\n",
      "Non-trainable params: 0\n",
      "_________________________________________________________________\n"
     ]
    }
   ],
   "source": [
    "model = Sequential()\n",
    "model.add(Dense(17, input_dim=39, activation='relu'))\n",
    "model.add(Dense(11, activation='relu'))\n",
    "model.add(Dense(7, activation='relu'))\n",
    "model.add(Dense(10, activation='softmax'))\n",
    "model.compile(loss='categorical_crossentropy', optimizer='adam', metrics=['accuracy'])\n",
    "model.summary()"
   ]
  },
  {
   "cell_type": "code",
   "execution_count": 48,
   "id": "a2dd7283",
   "metadata": {},
   "outputs": [
    {
     "name": "stdout",
     "output_type": "stream",
     "text": [
      "Epoch 1/10\n",
      "5480/5480 [==============================] - 11s 2ms/step - loss: 8.7483 - accuracy: 0.6875\n",
      "Epoch 2/10\n",
      "5480/5480 [==============================] - 9s 2ms/step - loss: 0.7026 - accuracy: 0.7477\n",
      "Epoch 3/10\n",
      "5480/5480 [==============================] - 9s 2ms/step - loss: 0.6621 - accuracy: 0.7572\n",
      "Epoch 4/10\n",
      "5480/5480 [==============================] - 10s 2ms/step - loss: 0.6251 - accuracy: 0.7603\n",
      "Epoch 5/10\n",
      "5480/5480 [==============================] - 10s 2ms/step - loss: 0.6089 - accuracy: 0.7638\n",
      "Epoch 6/10\n",
      "5480/5480 [==============================] - 10s 2ms/step - loss: 0.6014 - accuracy: 0.7651\n",
      "Epoch 7/10\n",
      "5480/5480 [==============================] - 11s 2ms/step - loss: 0.5928 - accuracy: 0.7676\n",
      "Epoch 8/10\n",
      "5480/5480 [==============================] - 9s 2ms/step - loss: 0.5893 - accuracy: 0.7697\n",
      "Epoch 9/10\n",
      "5480/5480 [==============================] - 10s 2ms/step - loss: 0.5838 - accuracy: 0.7716\n",
      "Epoch 10/10\n",
      "5480/5480 [==============================] - 9s 2ms/step - loss: 0.5874 - accuracy: 0.7722\n"
     ]
    },
    {
     "data": {
      "text/plain": [
       "<keras.callbacks.History at 0x265a2a8bf40>"
      ]
     },
     "execution_count": 48,
     "metadata": {},
     "output_type": "execute_result"
    }
   ],
   "source": [
    "# training the model\n",
    "model.fit(input_numerical_values, output1, epochs=10)"
   ]
  },
  {
   "cell_type": "code",
   "execution_count": 54,
   "id": "aaa5942a",
   "metadata": {},
   "outputs": [
    {
     "name": "stdout",
     "output_type": "stream",
     "text": [
      "Model: \"sequential_26\"\n",
      "_________________________________________________________________\n",
      " Layer (type)                Output Shape              Param #   \n",
      "=================================================================\n",
      " conv2d_3 (Conv2D)           (None, 1, 37, 32)         128       \n",
      "                                                                 \n",
      " max_pooling2d_3 (MaxPooling  (None, 1, 18, 32)        0         \n",
      " 2D)                                                             \n",
      "                                                                 \n",
      " flatten_3 (Flatten)         (None, 576)               0         \n",
      "                                                                 \n",
      " dense_61 (Dense)            (None, 128)               73856     \n",
      "                                                                 \n",
      " dense_62 (Dense)            (None, 10)                1290      \n",
      "                                                                 \n",
      "=================================================================\n",
      "Total params: 75,274\n",
      "Trainable params: 75,274\n",
      "Non-trainable params: 0\n",
      "_________________________________________________________________\n"
     ]
    }
   ],
   "source": [
    "from keras.models import Sequential\n",
    "from keras.layers import Conv2D, MaxPooling2D, Flatten, Dense\n",
    "\n",
    "data = input_numerical_values.values\n",
    "data = data.reshape(input_numerical_values.shape[0], 1, 39, 1)\n",
    "\n",
    "model = Sequential()\n",
    "model.add(Conv2D(32, kernel_size=(1, 3), activation='relu', input_shape=(1, 39, 1)))\n",
    "model.add(MaxPooling2D(pool_size=(1, 2)))\n",
    "model.add(Flatten())\n",
    "model.add(Dense(128, activation='relu'))\n",
    "model.add(Dense(10, activation='softmax'))\n",
    "model.compile(loss='categorical_crossentropy', optimizer='adam', metrics=['accuracy'])\n",
    "model.summary()"
   ]
  },
  {
   "cell_type": "code",
   "execution_count": 55,
   "id": "323d1219",
   "metadata": {},
   "outputs": [
    {
     "name": "stdout",
     "output_type": "stream",
     "text": [
      "Epoch 1/10\n",
      "5480/5480 [==============================] - 21s 4ms/step - loss: 33.0430 - accuracy: 0.7498\n",
      "Epoch 2/10\n",
      "5480/5480 [==============================] - 17s 3ms/step - loss: 2.6004 - accuracy: 0.7834\n",
      "Epoch 3/10\n",
      "5480/5480 [==============================] - 19s 3ms/step - loss: 0.5845 - accuracy: 0.7920\n",
      "Epoch 4/10\n",
      "5480/5480 [==============================] - 20s 4ms/step - loss: 0.5236 - accuracy: 0.7969\n",
      "Epoch 5/10\n",
      "5480/5480 [==============================] - 18s 3ms/step - loss: 0.5244 - accuracy: 0.8003\n",
      "Epoch 6/10\n",
      "5480/5480 [==============================] - 19s 3ms/step - loss: 0.5031 - accuracy: 0.8033\n",
      "Epoch 7/10\n",
      "5480/5480 [==============================] - 19s 3ms/step - loss: 0.5099 - accuracy: 0.8048\n",
      "Epoch 8/10\n",
      "5480/5480 [==============================] - 17s 3ms/step - loss: 0.4879 - accuracy: 0.8066\n",
      "Epoch 9/10\n",
      "5480/5480 [==============================] - 18s 3ms/step - loss: 0.5209 - accuracy: 0.8067\n",
      "Epoch 10/10\n",
      "5480/5480 [==============================] - 18s 3ms/step - loss: 0.4879 - accuracy: 0.8079\n"
     ]
    },
    {
     "data": {
      "text/plain": [
       "<keras.callbacks.History at 0x265916ea9d0>"
      ]
     },
     "execution_count": 55,
     "metadata": {},
     "output_type": "execute_result"
    }
   ],
   "source": [
    "model.fit(data, output1, epochs=10, batch_size=32)"
   ]
  },
  {
   "cell_type": "code",
   "execution_count": 58,
   "id": "a1bf0153",
   "metadata": {},
   "outputs": [
    {
     "name": "stdout",
     "output_type": "stream",
     "text": [
      "Model: \"sequential_28\"\n",
      "_________________________________________________________________\n",
      " Layer (type)                Output Shape              Param #   \n",
      "=================================================================\n",
      " conv2d_5 (Conv2D)           (None, 1, 37, 17)         68        \n",
      "                                                                 \n",
      " max_pooling2d_5 (MaxPooling  (None, 1, 18, 17)        0         \n",
      " 2D)                                                             \n",
      "                                                                 \n",
      " flatten_5 (Flatten)         (None, 306)               0         \n",
      "                                                                 \n",
      " dense_65 (Dense)            (None, 64)                19648     \n",
      "                                                                 \n",
      " dense_66 (Dense)            (None, 10)                650       \n",
      "                                                                 \n",
      "=================================================================\n",
      "Total params: 20,366\n",
      "Trainable params: 20,366\n",
      "Non-trainable params: 0\n",
      "_________________________________________________________________\n"
     ]
    }
   ],
   "source": [
    "model = Sequential()\n",
    "model.add(Conv2D(17, kernel_size=(1, 3), activation='relu', input_shape=(1, 39, 1)))\n",
    "model.add(MaxPooling2D(pool_size=(1, 2)))\n",
    "model.add(Flatten())\n",
    "model.add(Dense(64, activation='relu'))\n",
    "model.add(Dense(10, activation='softmax'))\n",
    "model.compile(loss='categorical_crossentropy', optimizer='adam', metrics=['accuracy'])\n",
    "model.summary()"
   ]
  },
  {
   "cell_type": "code",
   "execution_count": 59,
   "id": "9fb8fcee",
   "metadata": {
    "scrolled": false
   },
   "outputs": [
    {
     "name": "stdout",
     "output_type": "stream",
     "text": [
      "Epoch 1/10\n",
      "5480/5480 [==============================] - 16s 3ms/step - loss: 33.1426 - accuracy: 0.7433\n",
      "Epoch 2/10\n",
      "5480/5480 [==============================] - 16s 3ms/step - loss: 4.5382 - accuracy: 0.7762\n",
      "Epoch 3/10\n",
      "5480/5480 [==============================] - 18s 3ms/step - loss: 0.7005 - accuracy: 0.7864\n",
      "Epoch 4/10\n",
      "5480/5480 [==============================] - 20s 4ms/step - loss: 0.5399 - accuracy: 0.7924\n",
      "Epoch 5/10\n",
      "5480/5480 [==============================] - 15s 3ms/step - loss: 0.6864 - accuracy: 0.7960\n",
      "Epoch 6/10\n",
      "5480/5480 [==============================] - 15s 3ms/step - loss: 0.5172 - accuracy: 0.7986\n",
      "Epoch 7/10\n",
      "5480/5480 [==============================] - 14s 3ms/step - loss: 0.5228 - accuracy: 0.8005\n",
      "Epoch 8/10\n",
      "5480/5480 [==============================] - 15s 3ms/step - loss: 0.5154 - accuracy: 0.8014\n",
      "Epoch 9/10\n",
      "5480/5480 [==============================] - 14s 3ms/step - loss: 0.5038 - accuracy: 0.8023\n",
      "Epoch 10/10\n",
      "5480/5480 [==============================] - 14s 3ms/step - loss: 0.4943 - accuracy: 0.8037\n"
     ]
    },
    {
     "data": {
      "text/plain": [
       "<keras.callbacks.History at 0x26599f712e0>"
      ]
     },
     "execution_count": 59,
     "metadata": {},
     "output_type": "execute_result"
    }
   ],
   "source": [
    "model.fit(data, output1, epochs=10)"
   ]
  },
  {
   "cell_type": "code",
   "execution_count": 63,
   "id": "936ffb53",
   "metadata": {},
   "outputs": [
    {
     "name": "stdout",
     "output_type": "stream",
     "text": [
      "Model: \"sequential_31\"\n",
      "_________________________________________________________________\n",
      " Layer (type)                Output Shape              Param #   \n",
      "=================================================================\n",
      " conv2d_8 (Conv2D)           (None, 1, 37, 42)         168       \n",
      "                                                                 \n",
      " max_pooling2d_8 (MaxPooling  (None, 1, 18, 42)        0         \n",
      " 2D)                                                             \n",
      "                                                                 \n",
      " flatten_8 (Flatten)         (None, 756)               0         \n",
      "                                                                 \n",
      " dense_72 (Dense)            (None, 150)               113550    \n",
      "                                                                 \n",
      " dense_73 (Dense)            (None, 10)                1510      \n",
      "                                                                 \n",
      "=================================================================\n",
      "Total params: 115,228\n",
      "Trainable params: 115,228\n",
      "Non-trainable params: 0\n",
      "_________________________________________________________________\n"
     ]
    }
   ],
   "source": [
    "model = Sequential()\n",
    "model.add(Conv2D(42, kernel_size=(1, 3), activation='relu', input_shape=(1, 39, 1)))\n",
    "model.add(MaxPooling2D(pool_size=(1, 2)))\n",
    "model.add(Flatten())\n",
    "model.add(Dense(150, activation='relu'))\n",
    "model.add(Dense(10, activation='softmax'))\n",
    "model.compile(loss='categorical_crossentropy', optimizer='adam', metrics=['accuracy'])\n",
    "model.summary()"
   ]
  },
  {
   "cell_type": "code",
   "execution_count": 61,
   "id": "9a697dae",
   "metadata": {},
   "outputs": [
    {
     "name": "stdout",
     "output_type": "stream",
     "text": [
      "Epoch 1/10\n",
      "5480/5480 [==============================] - 23s 4ms/step - loss: 34.4689 - accuracy: 0.7515\n",
      "Epoch 2/10\n",
      "5480/5480 [==============================] - 21s 4ms/step - loss: 0.5517 - accuracy: 0.7853\n",
      "Epoch 3/10\n",
      "5480/5480 [==============================] - 22s 4ms/step - loss: 0.5611 - accuracy: 0.7925\n",
      "Epoch 4/10\n",
      "5480/5480 [==============================] - 20s 4ms/step - loss: 0.5325 - accuracy: 0.7973\n",
      "Epoch 5/10\n",
      "5480/5480 [==============================] - 20s 4ms/step - loss: 0.5270 - accuracy: 0.8011\n",
      "Epoch 6/10\n",
      "5480/5480 [==============================] - 20s 4ms/step - loss: 0.6155 - accuracy: 0.8028\n",
      "Epoch 7/10\n",
      "5480/5480 [==============================] - 20s 4ms/step - loss: 0.4996 - accuracy: 0.8053\n",
      "Epoch 8/10\n",
      "5480/5480 [==============================] - 20s 4ms/step - loss: 0.4922 - accuracy: 0.8059\n",
      "Epoch 9/10\n",
      "5480/5480 [==============================] - 20s 4ms/step - loss: 0.4989 - accuracy: 0.8073\n",
      "Epoch 10/10\n",
      "5480/5480 [==============================] - 20s 4ms/step - loss: 0.4956 - accuracy: 0.8082\n"
     ]
    },
    {
     "data": {
      "text/plain": [
       "<keras.callbacks.History at 0x2659a184af0>"
      ]
     },
     "execution_count": 61,
     "metadata": {},
     "output_type": "execute_result"
    }
   ],
   "source": [
    "model.fit(data, output1, epochs=10)"
   ]
  },
  {
   "cell_type": "code",
   "execution_count": 64,
   "id": "f6e56bf2",
   "metadata": {},
   "outputs": [
    {
     "name": "stdout",
     "output_type": "stream",
     "text": [
      "Model: \"sequential_32\"\n",
      "_________________________________________________________________\n",
      " Layer (type)                Output Shape              Param #   \n",
      "=================================================================\n",
      " conv2d_9 (Conv2D)           (None, 1, 37, 42)         168       \n",
      "                                                                 \n",
      " max_pooling2d_9 (MaxPooling  (None, 1, 18, 42)        0         \n",
      " 2D)                                                             \n",
      "                                                                 \n",
      " flatten_9 (Flatten)         (None, 756)               0         \n",
      "                                                                 \n",
      " dense_74 (Dense)            (None, 150)               113550    \n",
      "                                                                 \n",
      " dense_75 (Dense)            (None, 15)                2265      \n",
      "                                                                 \n",
      " dense_76 (Dense)            (None, 10)                160       \n",
      "                                                                 \n",
      "=================================================================\n",
      "Total params: 116,143\n",
      "Trainable params: 116,143\n",
      "Non-trainable params: 0\n",
      "_________________________________________________________________\n"
     ]
    }
   ],
   "source": [
    "model = Sequential()\n",
    "model.add(Conv2D(42, kernel_size=(1, 3), activation='relu', input_shape=(1, 39, 1)))\n",
    "model.add(MaxPooling2D(pool_size=(1, 2)))\n",
    "model.add(Flatten())\n",
    "model.add(Dense(150, activation='relu'))\n",
    "model.add(Dense(15, activation='relu'))\n",
    "model.add(Dense(10, activation='softmax'))\n",
    "model.compile(loss='categorical_crossentropy', optimizer='adam', metrics=['accuracy'])\n",
    "model.summary()"
   ]
  },
  {
   "cell_type": "code",
   "execution_count": 65,
   "id": "24169ee9",
   "metadata": {},
   "outputs": [
    {
     "name": "stdout",
     "output_type": "stream",
     "text": [
      "Epoch 1/10\n",
      "5480/5480 [==============================] - 24s 4ms/step - loss: 3.4085 - accuracy: 0.7427\n",
      "Epoch 2/10\n",
      "5480/5480 [==============================] - 22s 4ms/step - loss: 0.5925 - accuracy: 0.7672\n",
      "Epoch 3/10\n",
      "5480/5480 [==============================] - 23s 4ms/step - loss: 0.5582 - accuracy: 0.7736\n",
      "Epoch 4/10\n",
      "5480/5480 [==============================] - 22s 4ms/step - loss: 0.5432 - accuracy: 0.7798\n",
      "Epoch 5/10\n",
      "5480/5480 [==============================] - 24s 4ms/step - loss: 0.5274 - accuracy: 0.7839\n",
      "Epoch 6/10\n",
      "5480/5480 [==============================] - 23s 4ms/step - loss: 0.5215 - accuracy: 0.7876\n",
      "Epoch 7/10\n",
      "5480/5480 [==============================] - 23s 4ms/step - loss: 0.5155 - accuracy: 0.7890\n",
      "Epoch 8/10\n",
      "5480/5480 [==============================] - 23s 4ms/step - loss: 0.5093 - accuracy: 0.7903\n",
      "Epoch 9/10\n",
      "5480/5480 [==============================] - 21s 4ms/step - loss: 0.5024 - accuracy: 0.7929\n",
      "Epoch 10/10\n",
      "5480/5480 [==============================] - 22s 4ms/step - loss: 0.5097 - accuracy: 0.7934\n"
     ]
    },
    {
     "data": {
      "text/plain": [
       "<keras.callbacks.History at 0x265c336b970>"
      ]
     },
     "execution_count": 65,
     "metadata": {},
     "output_type": "execute_result"
    }
   ],
   "source": [
    "model.fit(data, output1, epochs=10)"
   ]
  },
  {
   "cell_type": "code",
   "execution_count": 66,
   "id": "86d8bf95",
   "metadata": {},
   "outputs": [
    {
     "name": "stdout",
     "output_type": "stream",
     "text": [
      "Model: \"sequential_33\"\n",
      "_________________________________________________________________\n",
      " Layer (type)                Output Shape              Param #   \n",
      "=================================================================\n",
      " conv2d_10 (Conv2D)          (None, 1, 37, 42)         168       \n",
      "                                                                 \n",
      " max_pooling2d_10 (MaxPoolin  (None, 1, 18, 42)        0         \n",
      " g2D)                                                            \n",
      "                                                                 \n",
      " flatten_10 (Flatten)        (None, 756)               0         \n",
      "                                                                 \n",
      " dense_77 (Dense)            (None, 10)                7570      \n",
      "                                                                 \n",
      "=================================================================\n",
      "Total params: 7,738\n",
      "Trainable params: 7,738\n",
      "Non-trainable params: 0\n",
      "_________________________________________________________________\n"
     ]
    }
   ],
   "source": [
    "model = Sequential()\n",
    "model.add(Conv2D(42, kernel_size=(1, 3), activation='relu', input_shape=(1, 39, 1)))\n",
    "model.add(MaxPooling2D(pool_size=(1, 2)))\n",
    "model.add(Flatten())\n",
    "model.add(Dense(10, activation='softmax'))\n",
    "model.compile(loss='categorical_crossentropy', optimizer='adam', metrics=['accuracy'])\n",
    "model.summary()"
   ]
  },
  {
   "cell_type": "code",
   "execution_count": 67,
   "id": "1df225dd",
   "metadata": {},
   "outputs": [
    {
     "name": "stdout",
     "output_type": "stream",
     "text": [
      "Epoch 1/10\n",
      "5480/5480 [==============================] - 15s 3ms/step - loss: 46.7705 - accuracy: 0.7244\n",
      "Epoch 2/10\n",
      "5480/5480 [==============================] - 15s 3ms/step - loss: 13.7716 - accuracy: 0.7609\n",
      "Epoch 3/10\n",
      "5480/5480 [==============================] - 14s 3ms/step - loss: 9.3582 - accuracy: 0.7667\n",
      "Epoch 4/10\n",
      "5480/5480 [==============================] - 15s 3ms/step - loss: 11.5526 - accuracy: 0.7685\n",
      "Epoch 5/10\n",
      "5480/5480 [==============================] - 18s 3ms/step - loss: 7.0301 - accuracy: 0.7744\n",
      "Epoch 6/10\n",
      "5480/5480 [==============================] - 23s 4ms/step - loss: 4.0129 - accuracy: 0.7799\n",
      "Epoch 7/10\n",
      "5480/5480 [==============================] - 15s 3ms/step - loss: 1.1073 - accuracy: 0.7827\n",
      "Epoch 8/10\n",
      "5480/5480 [==============================] - 15s 3ms/step - loss: 0.5880 - accuracy: 0.7856\n",
      "Epoch 9/10\n",
      "5480/5480 [==============================] - 15s 3ms/step - loss: 0.5687 - accuracy: 0.7871\n",
      "Epoch 10/10\n",
      "5480/5480 [==============================] - 15s 3ms/step - loss: 0.5586 - accuracy: 0.7891\n"
     ]
    },
    {
     "data": {
      "text/plain": [
       "<keras.callbacks.History at 0x2659a28d5b0>"
      ]
     },
     "execution_count": 67,
     "metadata": {},
     "output_type": "execute_result"
    }
   ],
   "source": [
    "model.fit(data, output1, epochs=10)"
   ]
  },
  {
   "cell_type": "code",
   "execution_count": 68,
   "id": "e568793c",
   "metadata": {},
   "outputs": [
    {
     "name": "stdout",
     "output_type": "stream",
     "text": [
      "Model: \"sequential_34\"\n",
      "_________________________________________________________________\n",
      " Layer (type)                Output Shape              Param #   \n",
      "=================================================================\n",
      " conv2d_11 (Conv2D)          (None, 1, 37, 42)         168       \n",
      "                                                                 \n",
      " flatten_11 (Flatten)        (None, 1554)              0         \n",
      "                                                                 \n",
      " dense_78 (Dense)            (None, 150)               233250    \n",
      "                                                                 \n",
      " dense_79 (Dense)            (None, 10)                1510      \n",
      "                                                                 \n",
      "=================================================================\n",
      "Total params: 234,928\n",
      "Trainable params: 234,928\n",
      "Non-trainable params: 0\n",
      "_________________________________________________________________\n"
     ]
    }
   ],
   "source": [
    "model = Sequential()\n",
    "model.add(Conv2D(42, kernel_size=(1, 3), activation='relu', input_shape=(1, 39, 1)))\n",
    "model.add(Flatten())\n",
    "model.add(Dense(150, activation='relu'))\n",
    "model.add(Dense(10, activation='softmax'))\n",
    "model.compile(loss='categorical_crossentropy', optimizer='adam', metrics=['accuracy'])\n",
    "model.summary()"
   ]
  },
  {
   "cell_type": "code",
   "execution_count": 69,
   "id": "f178f0c6",
   "metadata": {},
   "outputs": [
    {
     "name": "stdout",
     "output_type": "stream",
     "text": [
      "Epoch 1/10\n",
      "5480/5480 [==============================] - 36s 6ms/step - loss: 24.4438 - accuracy: 0.7588\n",
      "Epoch 2/10\n",
      "5480/5480 [==============================] - 31s 6ms/step - loss: 0.5428 - accuracy: 0.7900\n",
      "Epoch 3/10\n",
      "5480/5480 [==============================] - 31s 6ms/step - loss: 0.5277 - accuracy: 0.7971\n",
      "Epoch 4/10\n",
      "5480/5480 [==============================] - 34s 6ms/step - loss: 0.5434 - accuracy: 0.8002\n",
      "Epoch 5/10\n",
      "5480/5480 [==============================] - 31s 6ms/step - loss: 0.5666 - accuracy: 0.8016\n",
      "Epoch 6/10\n",
      "5480/5480 [==============================] - 35s 6ms/step - loss: 0.5386 - accuracy: 0.8031\n",
      "Epoch 7/10\n",
      "5480/5480 [==============================] - 32s 6ms/step - loss: 0.4967 - accuracy: 0.8053\n",
      "Epoch 8/10\n",
      "5480/5480 [==============================] - 31s 6ms/step - loss: 0.5152 - accuracy: 0.8055\n",
      "Epoch 9/10\n",
      "5480/5480 [==============================] - 31s 6ms/step - loss: 0.5266 - accuracy: 0.8077\n",
      "Epoch 10/10\n",
      "5480/5480 [==============================] - 31s 6ms/step - loss: 0.5248 - accuracy: 0.8076\n"
     ]
    },
    {
     "data": {
      "text/plain": [
       "<keras.callbacks.History at 0x265988a3c40>"
      ]
     },
     "execution_count": 69,
     "metadata": {},
     "output_type": "execute_result"
    }
   ],
   "source": [
    "model.fit(data, output1, epochs=10)"
   ]
  },
  {
   "cell_type": "code",
   "execution_count": 70,
   "id": "896eb9fe",
   "metadata": {},
   "outputs": [
    {
     "name": "stdout",
     "output_type": "stream",
     "text": [
      "Model: \"sequential_35\"\n",
      "_________________________________________________________________\n",
      " Layer (type)                Output Shape              Param #   \n",
      "=================================================================\n",
      " conv2d_12 (Conv2D)          (None, 1, 35, 42)         252       \n",
      "                                                                 \n",
      " flatten_12 (Flatten)        (None, 1470)              0         \n",
      "                                                                 \n",
      " dense_80 (Dense)            (None, 150)               220650    \n",
      "                                                                 \n",
      " dense_81 (Dense)            (None, 10)                1510      \n",
      "                                                                 \n",
      "=================================================================\n",
      "Total params: 222,412\n",
      "Trainable params: 222,412\n",
      "Non-trainable params: 0\n",
      "_________________________________________________________________\n"
     ]
    }
   ],
   "source": [
    "model = Sequential()\n",
    "model.add(Conv2D(42, kernel_size=(1, 5), activation='relu', input_shape=(1, 39, 1)))\n",
    "model.add(Flatten())\n",
    "model.add(Dense(150, activation='relu'))\n",
    "model.add(Dense(10, activation='softmax'))\n",
    "model.compile(loss='categorical_crossentropy', optimizer='adam', metrics=['accuracy'])\n",
    "model.summary()"
   ]
  },
  {
   "cell_type": "code",
   "execution_count": 71,
   "id": "104ddd00",
   "metadata": {},
   "outputs": [
    {
     "name": "stdout",
     "output_type": "stream",
     "text": [
      "Epoch 1/10\n",
      "5480/5480 [==============================] - 31s 5ms/step - loss: 14.8356 - accuracy: 0.7593\n",
      "Epoch 2/10\n",
      "5480/5480 [==============================] - 30s 5ms/step - loss: 0.5434 - accuracy: 0.7929\n",
      "Epoch 3/10\n",
      "5480/5480 [==============================] - 31s 6ms/step - loss: 0.6604 - accuracy: 0.7983\n",
      "Epoch 4/10\n",
      "5480/5480 [==============================] - 31s 6ms/step - loss: 1.6356 - accuracy: 0.8007\n",
      "Epoch 5/10\n",
      "5480/5480 [==============================] - 30s 5ms/step - loss: 0.5176 - accuracy: 0.8052\n",
      "Epoch 6/10\n",
      "5480/5480 [==============================] - 32s 6ms/step - loss: 0.5881 - accuracy: 0.8056\n",
      "Epoch 7/10\n",
      "5480/5480 [==============================] - 31s 6ms/step - loss: 1.2413 - accuracy: 0.8039\n",
      "Epoch 8/10\n",
      "5480/5480 [==============================] - 31s 6ms/step - loss: 0.4901 - accuracy: 0.8071\n",
      "Epoch 9/10\n",
      "5480/5480 [==============================] - 31s 6ms/step - loss: 0.5528 - accuracy: 0.8085\n",
      "Epoch 10/10\n",
      "5480/5480 [==============================] - 31s 6ms/step - loss: 0.4950 - accuracy: 0.8093\n"
     ]
    },
    {
     "data": {
      "text/plain": [
       "<keras.callbacks.History at 0x26598bf6280>"
      ]
     },
     "execution_count": 71,
     "metadata": {},
     "output_type": "execute_result"
    }
   ],
   "source": [
    "model.fit(data, output1, epochs=10)"
   ]
  },
  {
   "cell_type": "code",
   "execution_count": 72,
   "id": "2a163950",
   "metadata": {},
   "outputs": [
    {
     "name": "stdout",
     "output_type": "stream",
     "text": [
      "Model: \"sequential_36\"\n",
      "_________________________________________________________________\n",
      " Layer (type)                Output Shape              Param #   \n",
      "=================================================================\n",
      " conv2d_13 (Conv2D)          (None, 1, 30, 52)         572       \n",
      "                                                                 \n",
      " flatten_13 (Flatten)        (None, 1560)              0         \n",
      "                                                                 \n",
      " dense_82 (Dense)            (None, 150)               234150    \n",
      "                                                                 \n",
      " dense_83 (Dense)            (None, 10)                1510      \n",
      "                                                                 \n",
      "=================================================================\n",
      "Total params: 236,232\n",
      "Trainable params: 236,232\n",
      "Non-trainable params: 0\n",
      "_________________________________________________________________\n"
     ]
    }
   ],
   "source": [
    "model = Sequential()\n",
    "model.add(Conv2D(52, kernel_size=(1, 10), activation='relu', input_shape=(1, 39, 1)))\n",
    "model.add(Flatten())\n",
    "model.add(Dense(150, activation='relu'))\n",
    "model.add(Dense(10, activation='softmax'))\n",
    "model.compile(loss='categorical_crossentropy', optimizer='adam', metrics=['accuracy'])\n",
    "model.summary()"
   ]
  },
  {
   "cell_type": "code",
   "execution_count": 73,
   "id": "197c0980",
   "metadata": {},
   "outputs": [
    {
     "name": "stdout",
     "output_type": "stream",
     "text": [
      "Epoch 1/10\n",
      "5480/5480 [==============================] - 33s 6ms/step - loss: 28.6510 - accuracy: 0.7565\n",
      "Epoch 2/10\n",
      "5480/5480 [==============================] - 31s 6ms/step - loss: 1.1068 - accuracy: 0.7908\n",
      "Epoch 3/10\n",
      "5480/5480 [==============================] - 32s 6ms/step - loss: 2.4208 - accuracy: 0.7939\n",
      "Epoch 4/10\n",
      "5480/5480 [==============================] - 32s 6ms/step - loss: 1.2778 - accuracy: 0.7977\n",
      "Epoch 5/10\n",
      "5480/5480 [==============================] - 34s 6ms/step - loss: 0.5349 - accuracy: 0.7997\n",
      "Epoch 6/10\n",
      "5480/5480 [==============================] - 34s 6ms/step - loss: 0.6462 - accuracy: 0.7912\n",
      "Epoch 7/10\n",
      "5480/5480 [==============================] - 39s 7ms/step - loss: 0.5641 - accuracy: 0.7878\n",
      "Epoch 8/10\n",
      "5480/5480 [==============================] - 32s 6ms/step - loss: 0.5269 - accuracy: 0.7890\n",
      "Epoch 9/10\n",
      "5480/5480 [==============================] - 32s 6ms/step - loss: 0.5828 - accuracy: 0.7882\n",
      "Epoch 10/10\n",
      "5480/5480 [==============================] - 32s 6ms/step - loss: 0.5225 - accuracy: 0.7900\n"
     ]
    },
    {
     "data": {
      "text/plain": [
       "<keras.callbacks.History at 0x26598a7ab80>"
      ]
     },
     "execution_count": 73,
     "metadata": {},
     "output_type": "execute_result"
    }
   ],
   "source": [
    "model.fit(data, output1, epochs=10)"
   ]
  },
  {
   "cell_type": "code",
   "execution_count": 74,
   "id": "d894d9f7",
   "metadata": {},
   "outputs": [
    {
     "name": "stdout",
     "output_type": "stream",
     "text": [
      "Model: \"sequential_37\"\n",
      "_________________________________________________________________\n",
      " Layer (type)                Output Shape              Param #   \n",
      "=================================================================\n",
      " conv2d_14 (Conv2D)          (None, 1, 38, 52)         156       \n",
      "                                                                 \n",
      " flatten_14 (Flatten)        (None, 1976)              0         \n",
      "                                                                 \n",
      " dense_84 (Dense)            (None, 150)               296550    \n",
      "                                                                 \n",
      " dense_85 (Dense)            (None, 10)                1510      \n",
      "                                                                 \n",
      "=================================================================\n",
      "Total params: 298,216\n",
      "Trainable params: 298,216\n",
      "Non-trainable params: 0\n",
      "_________________________________________________________________\n"
     ]
    }
   ],
   "source": [
    "model = Sequential()\n",
    "model.add(Conv2D(52, kernel_size=(1, 2), activation='relu', input_shape=(1, 39, 1)))\n",
    "model.add(Flatten())\n",
    "model.add(Dense(150, activation='relu'))\n",
    "model.add(Dense(10, activation='softmax'))\n",
    "model.compile(loss='categorical_crossentropy', optimizer='adam', metrics=['accuracy'])\n",
    "model.summary()"
   ]
  },
  {
   "cell_type": "code",
   "execution_count": 75,
   "id": "8911951c",
   "metadata": {},
   "outputs": [
    {
     "name": "stdout",
     "output_type": "stream",
     "text": [
      "Epoch 1/10\n",
      "5480/5480 [==============================] - 50s 9ms/step - loss: 21.6975 - accuracy: 0.7575\n",
      "Epoch 2/10\n",
      "5480/5480 [==============================] - 47s 9ms/step - loss: 0.5544 - accuracy: 0.7878\n",
      "Epoch 3/10\n",
      "5480/5480 [==============================] - 47s 9ms/step - loss: 0.5251 - accuracy: 0.7962\n",
      "Epoch 4/10\n",
      "5480/5480 [==============================] - 48s 9ms/step - loss: 0.5145 - accuracy: 0.7994\n",
      "Epoch 5/10\n",
      "5480/5480 [==============================] - 46s 8ms/step - loss: 0.5124 - accuracy: 0.8016\n",
      "Epoch 6/10\n",
      "5480/5480 [==============================] - 49s 9ms/step - loss: 0.4983 - accuracy: 0.8044\n",
      "Epoch 7/10\n",
      "5480/5480 [==============================] - 53s 10ms/step - loss: 0.4957 - accuracy: 0.8051\n",
      "Epoch 8/10\n",
      "5480/5480 [==============================] - 45s 8ms/step - loss: 0.5046 - accuracy: 0.8062\n",
      "Epoch 9/10\n",
      "5480/5480 [==============================] - 51s 9ms/step - loss: 0.4840 - accuracy: 0.8076\n",
      "Epoch 10/10\n",
      "5480/5480 [==============================] - 51s 9ms/step - loss: 0.4995 - accuracy: 0.8081\n"
     ]
    },
    {
     "data": {
      "text/plain": [
       "<keras.callbacks.History at 0x2659a11fb20>"
      ]
     },
     "execution_count": 75,
     "metadata": {},
     "output_type": "execute_result"
    }
   ],
   "source": [
    "model.fit(data, output1, epochs=10)"
   ]
  },
  {
   "cell_type": "code",
   "execution_count": 76,
   "id": "2a226fbb",
   "metadata": {},
   "outputs": [
    {
     "name": "stdout",
     "output_type": "stream",
     "text": [
      "Model: \"sequential_38\"\n",
      "_________________________________________________________________\n",
      " Layer (type)                Output Shape              Param #   \n",
      "=================================================================\n",
      " dense_86 (Dense)            (None, 150)               6000      \n",
      "                                                                 \n",
      " dense_87 (Dense)            (None, 10)                1510      \n",
      "                                                                 \n",
      "=================================================================\n",
      "Total params: 7,510\n",
      "Trainable params: 7,510\n",
      "Non-trainable params: 0\n",
      "_________________________________________________________________\n"
     ]
    }
   ],
   "source": [
    "model = Sequential()\n",
    "model.add(Dense(150, input_dim=39, activation='relu'))\n",
    "model.add(Dense(10, activation='softmax'))\n",
    "model.compile(loss='categorical_crossentropy', optimizer='adam', metrics=['accuracy'])\n",
    "model.summary()"
   ]
  },
  {
   "cell_type": "code",
   "execution_count": 77,
   "id": "774b1944",
   "metadata": {},
   "outputs": [
    {
     "name": "stdout",
     "output_type": "stream",
     "text": [
      "Epoch 1/10\n",
      "5480/5480 [==============================] - 10s 2ms/step - loss: 73.7005 - accuracy: 0.7343\n",
      "Epoch 2/10\n",
      "5480/5480 [==============================] - 10s 2ms/step - loss: 50.9022 - accuracy: 0.7648\n",
      "Epoch 3/10\n",
      "5480/5480 [==============================] - 10s 2ms/step - loss: 39.4307 - accuracy: 0.7733\n",
      "Epoch 4/10\n",
      "5480/5480 [==============================] - 9s 2ms/step - loss: 30.1278 - accuracy: 0.7782\n",
      "Epoch 5/10\n",
      "5480/5480 [==============================] - 10s 2ms/step - loss: 22.0486 - accuracy: 0.7837\n",
      "Epoch 6/10\n",
      "5480/5480 [==============================] - 10s 2ms/step - loss: 14.7973 - accuracy: 0.7875\n",
      "Epoch 7/10\n",
      "5480/5480 [==============================] - 10s 2ms/step - loss: 13.8406 - accuracy: 0.7904\n",
      "Epoch 8/10\n",
      "5480/5480 [==============================] - 10s 2ms/step - loss: 9.1472 - accuracy: 0.7910\n",
      "Epoch 9/10\n",
      "5480/5480 [==============================] - 10s 2ms/step - loss: 6.7839 - accuracy: 0.7924\n",
      "Epoch 10/10\n",
      "5480/5480 [==============================] - 10s 2ms/step - loss: 1.2096 - accuracy: 0.7977\n"
     ]
    },
    {
     "data": {
      "text/plain": [
       "<keras.callbacks.History at 0x26598dd21f0>"
      ]
     },
     "execution_count": 77,
     "metadata": {},
     "output_type": "execute_result"
    }
   ],
   "source": [
    "# training the model\n",
    "model.fit(input_numerical_values, output1, epochs=10)"
   ]
  },
  {
   "cell_type": "code",
   "execution_count": 83,
   "id": "232dcd19",
   "metadata": {},
   "outputs": [],
   "source": [
    "from keras.layers import Input, Dense, Attention, dot\n",
    "from keras.models import Model\n",
    "\n",
    "data = input_numerical_values.values\n",
    "\n",
    "query_data = data[:,:19].reshape(input_numerical_values.shape[0], 1, 19)\n",
    "key_data = data[:,19:28].reshape(input_numerical_values.shape[0], 1, 9)\n",
    "value_data = data[:,28:].reshape(input_numerical_values.shape[0], 1, 11)\n",
    "\n",
    "query_input = Input(shape=(1, 19))\n",
    "key_input = Input(shape=(1, 9))\n",
    "value_input = Input(shape=(1, 11))\n",
    "\n",
    "query = Dense(128, activation='relu')(query_input)\n",
    "key = Dense(128, activation='relu')(key_input)\n",
    "value = Dense(128, activation='relu')(value_input)\n",
    "\n",
    "attention = Attention(10)([query, key, value])\n",
    "outputs = Dense(10, activation='softmax')(attention)\n",
    "model = Model(inputs=[query_input, key_input, value_input], outputs=outputs)\n",
    "model.compile(loss='categorical_crossentropy', optimizer='adam', metrics=['accuracy'])"
   ]
  },
  {
   "cell_type": "code",
   "execution_count": 86,
   "id": "7c83abb0",
   "metadata": {},
   "outputs": [
    {
     "name": "stdout",
     "output_type": "stream",
     "text": [
      "Epoch 1/10\n"
     ]
    },
    {
     "ename": "ValueError",
     "evalue": "in user code:\n\n    File \"c:\\users\\devayani\\appdata\\local\\programs\\python\\python38\\lib\\site-packages\\keras\\engine\\training.py\", line 1249, in train_function  *\n        return step_function(self, iterator)\n    File \"c:\\users\\devayani\\appdata\\local\\programs\\python\\python38\\lib\\site-packages\\keras\\engine\\training.py\", line 1233, in step_function  **\n        outputs = model.distribute_strategy.run(run_step, args=(data,))\n    File \"c:\\users\\devayani\\appdata\\local\\programs\\python\\python38\\lib\\site-packages\\keras\\engine\\training.py\", line 1222, in run_step  **\n        outputs = model.train_step(data)\n    File \"c:\\users\\devayani\\appdata\\local\\programs\\python\\python38\\lib\\site-packages\\keras\\engine\\training.py\", line 1024, in train_step\n        loss = self.compute_loss(x, y, y_pred, sample_weight)\n    File \"c:\\users\\devayani\\appdata\\local\\programs\\python\\python38\\lib\\site-packages\\keras\\engine\\training.py\", line 1082, in compute_loss\n        return self.compiled_loss(\n    File \"c:\\users\\devayani\\appdata\\local\\programs\\python\\python38\\lib\\site-packages\\keras\\engine\\compile_utils.py\", line 265, in __call__\n        loss_value = loss_obj(y_t, y_p, sample_weight=sw)\n    File \"c:\\users\\devayani\\appdata\\local\\programs\\python\\python38\\lib\\site-packages\\keras\\losses.py\", line 152, in __call__\n        losses = call_fn(y_true, y_pred)\n    File \"c:\\users\\devayani\\appdata\\local\\programs\\python\\python38\\lib\\site-packages\\keras\\losses.py\", line 284, in call  **\n        return ag_fn(y_true, y_pred, **self._fn_kwargs)\n    File \"c:\\users\\devayani\\appdata\\local\\programs\\python\\python38\\lib\\site-packages\\keras\\losses.py\", line 2004, in categorical_crossentropy\n        return backend.categorical_crossentropy(\n    File \"c:\\users\\devayani\\appdata\\local\\programs\\python\\python38\\lib\\site-packages\\keras\\backend.py\", line 5532, in categorical_crossentropy\n        target.shape.assert_is_compatible_with(output.shape)\n\n    ValueError: Shapes (None, 10) and (None, 1, 10) are incompatible\n",
     "output_type": "error",
     "traceback": [
      "\u001b[1;31m---------------------------------------------------------------------------\u001b[0m",
      "\u001b[1;31mValueError\u001b[0m                                Traceback (most recent call last)",
      "Cell \u001b[1;32mIn [86], line 1\u001b[0m\n\u001b[1;32m----> 1\u001b[0m model\u001b[38;5;241m.\u001b[39mfit([query_data, key_data, value_data], output1, epochs\u001b[38;5;241m=\u001b[39m\u001b[38;5;241m10\u001b[39m, batch_size\u001b[38;5;241m=\u001b[39m\u001b[38;5;241m32\u001b[39m)\n",
      "File \u001b[1;32mc:\\users\\devayani\\appdata\\local\\programs\\python\\python38\\lib\\site-packages\\keras\\utils\\traceback_utils.py:70\u001b[0m, in \u001b[0;36mfilter_traceback.<locals>.error_handler\u001b[1;34m(*args, **kwargs)\u001b[0m\n\u001b[0;32m     67\u001b[0m     filtered_tb \u001b[38;5;241m=\u001b[39m _process_traceback_frames(e\u001b[38;5;241m.\u001b[39m__traceback__)\n\u001b[0;32m     68\u001b[0m     \u001b[38;5;66;03m# To get the full stack trace, call:\u001b[39;00m\n\u001b[0;32m     69\u001b[0m     \u001b[38;5;66;03m# `tf.debugging.disable_traceback_filtering()`\u001b[39;00m\n\u001b[1;32m---> 70\u001b[0m     \u001b[38;5;28;01mraise\u001b[39;00m e\u001b[38;5;241m.\u001b[39mwith_traceback(filtered_tb) \u001b[38;5;28;01mfrom\u001b[39;00m \u001b[38;5;28mNone\u001b[39m\n\u001b[0;32m     71\u001b[0m \u001b[38;5;28;01mfinally\u001b[39;00m:\n\u001b[0;32m     72\u001b[0m     \u001b[38;5;28;01mdel\u001b[39;00m filtered_tb\n",
      "File \u001b[1;32m~\\AppData\\Local\\Temp\\__autograph_generated_file1e3g2f9w.py:15\u001b[0m, in \u001b[0;36mouter_factory.<locals>.inner_factory.<locals>.tf__train_function\u001b[1;34m(iterator)\u001b[0m\n\u001b[0;32m     13\u001b[0m \u001b[38;5;28;01mtry\u001b[39;00m:\n\u001b[0;32m     14\u001b[0m     do_return \u001b[38;5;241m=\u001b[39m \u001b[38;5;28;01mTrue\u001b[39;00m\n\u001b[1;32m---> 15\u001b[0m     retval_ \u001b[38;5;241m=\u001b[39m ag__\u001b[38;5;241m.\u001b[39mconverted_call(ag__\u001b[38;5;241m.\u001b[39mld(step_function), (ag__\u001b[38;5;241m.\u001b[39mld(\u001b[38;5;28mself\u001b[39m), ag__\u001b[38;5;241m.\u001b[39mld(iterator)), \u001b[38;5;28;01mNone\u001b[39;00m, fscope)\n\u001b[0;32m     16\u001b[0m \u001b[38;5;28;01mexcept\u001b[39;00m:\n\u001b[0;32m     17\u001b[0m     do_return \u001b[38;5;241m=\u001b[39m \u001b[38;5;28;01mFalse\u001b[39;00m\n",
      "\u001b[1;31mValueError\u001b[0m: in user code:\n\n    File \"c:\\users\\devayani\\appdata\\local\\programs\\python\\python38\\lib\\site-packages\\keras\\engine\\training.py\", line 1249, in train_function  *\n        return step_function(self, iterator)\n    File \"c:\\users\\devayani\\appdata\\local\\programs\\python\\python38\\lib\\site-packages\\keras\\engine\\training.py\", line 1233, in step_function  **\n        outputs = model.distribute_strategy.run(run_step, args=(data,))\n    File \"c:\\users\\devayani\\appdata\\local\\programs\\python\\python38\\lib\\site-packages\\keras\\engine\\training.py\", line 1222, in run_step  **\n        outputs = model.train_step(data)\n    File \"c:\\users\\devayani\\appdata\\local\\programs\\python\\python38\\lib\\site-packages\\keras\\engine\\training.py\", line 1024, in train_step\n        loss = self.compute_loss(x, y, y_pred, sample_weight)\n    File \"c:\\users\\devayani\\appdata\\local\\programs\\python\\python38\\lib\\site-packages\\keras\\engine\\training.py\", line 1082, in compute_loss\n        return self.compiled_loss(\n    File \"c:\\users\\devayani\\appdata\\local\\programs\\python\\python38\\lib\\site-packages\\keras\\engine\\compile_utils.py\", line 265, in __call__\n        loss_value = loss_obj(y_t, y_p, sample_weight=sw)\n    File \"c:\\users\\devayani\\appdata\\local\\programs\\python\\python38\\lib\\site-packages\\keras\\losses.py\", line 152, in __call__\n        losses = call_fn(y_true, y_pred)\n    File \"c:\\users\\devayani\\appdata\\local\\programs\\python\\python38\\lib\\site-packages\\keras\\losses.py\", line 284, in call  **\n        return ag_fn(y_true, y_pred, **self._fn_kwargs)\n    File \"c:\\users\\devayani\\appdata\\local\\programs\\python\\python38\\lib\\site-packages\\keras\\losses.py\", line 2004, in categorical_crossentropy\n        return backend.categorical_crossentropy(\n    File \"c:\\users\\devayani\\appdata\\local\\programs\\python\\python38\\lib\\site-packages\\keras\\backend.py\", line 5532, in categorical_crossentropy\n        target.shape.assert_is_compatible_with(output.shape)\n\n    ValueError: Shapes (None, 10) and (None, 1, 10) are incompatible\n"
     ]
    }
   ],
   "source": [
    "model.fit([query_data, key_data, value_data], output1, epochs=10, batch_size=32)"
   ]
  },
  {
   "cell_type": "code",
   "execution_count": null,
   "id": "9ed62fb1",
   "metadata": {},
   "outputs": [],
   "source": []
  }
 ],
 "metadata": {
  "kernelspec": {
   "display_name": "Python 3 (ipykernel)",
   "language": "python",
   "name": "python3"
  },
  "language_info": {
   "codemirror_mode": {
    "name": "ipython",
    "version": 3
   },
   "file_extension": ".py",
   "mimetype": "text/x-python",
   "name": "python",
   "nbconvert_exporter": "python",
   "pygments_lexer": "ipython3",
   "version": "3.11.0"
  }
 },
 "nbformat": 4,
 "nbformat_minor": 5
}
