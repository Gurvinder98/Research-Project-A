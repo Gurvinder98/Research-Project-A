{
 "cells": [
  {
   "cell_type": "code",
   "execution_count": 1,
   "id": "82f0d3da",
   "metadata": {},
   "outputs": [],
   "source": [
    "import pandas as pd\n",
    "import numpy as np"
   ]
  },
  {
   "cell_type": "code",
   "execution_count": 2,
   "id": "3e317e7b",
   "metadata": {},
   "outputs": [],
   "source": [
    "train_df = pd.read_csv('UNSW_NB15_train-set.csv').drop(['id'], axis=1)\n"
   ]
  },
  {
   "cell_type": "code",
   "execution_count": 3,
   "id": "e0803466",
   "metadata": {},
   "outputs": [],
   "source": [
    "import keras\n",
    "from keras.models import Sequential   # importing Sequential model\n",
    "from keras.layers import Dense        # importing Dense layers\n",
    "from keras.wrappers.scikit_learn import KerasClassifier\n"
   ]
  },
  {
   "cell_type": "code",
   "execution_count": 4,
   "id": "587e6cb1",
   "metadata": {},
   "outputs": [],
   "source": [
    "from sklearn.model_selection import train_test_split, cross_val_score, KFold\n",
    "from sklearn.preprocessing import RobustScaler"
   ]
  },
  {
   "cell_type": "code",
   "execution_count": 5,
   "id": "e1b4fcae",
   "metadata": {},
   "outputs": [],
   "source": [
    "# separate categroicals with non categoricals \n",
    "output1 = train_df[['attack_cat']].copy()  # multiclass\n",
    "output2 = train_df[['label']].copy()       # binary\n",
    "\n",
    "input_categroicals = train_df.dtypes[train_df.dtypes == object].index.tolist()[:-1]\n",
    "input_numericals = train_df.dtypes[train_df.dtypes != object].index.tolist()[:-1]\n",
    "\n",
    "input_categorical_values = train_df[input_categroicals].copy()\n",
    "input_numerical_values = train_df[input_numericals].copy()"
   ]
  },
  {
   "cell_type": "code",
   "execution_count": 6,
   "id": "e89da884",
   "metadata": {},
   "outputs": [
    {
     "data": {
      "text/html": [
       "<div>\n",
       "<style scoped>\n",
       "    .dataframe tbody tr th:only-of-type {\n",
       "        vertical-align: middle;\n",
       "    }\n",
       "\n",
       "    .dataframe tbody tr th {\n",
       "        vertical-align: top;\n",
       "    }\n",
       "\n",
       "    .dataframe thead th {\n",
       "        text-align: right;\n",
       "    }\n",
       "</style>\n",
       "<table border=\"1\" class=\"dataframe\">\n",
       "  <thead>\n",
       "    <tr style=\"text-align: right;\">\n",
       "      <th></th>\n",
       "      <th>dur</th>\n",
       "      <th>spkts</th>\n",
       "      <th>dpkts</th>\n",
       "      <th>sbytes</th>\n",
       "      <th>dbytes</th>\n",
       "      <th>rate</th>\n",
       "      <th>sttl</th>\n",
       "      <th>dttl</th>\n",
       "      <th>sload</th>\n",
       "      <th>dload</th>\n",
       "      <th>...</th>\n",
       "      <th>ct_dst_ltm</th>\n",
       "      <th>ct_src_dport_ltm</th>\n",
       "      <th>ct_dst_sport_ltm</th>\n",
       "      <th>ct_dst_src_ltm</th>\n",
       "      <th>is_ftp_login</th>\n",
       "      <th>ct_ftp_cmd</th>\n",
       "      <th>ct_flw_http_mthd</th>\n",
       "      <th>ct_src_ltm</th>\n",
       "      <th>ct_srv_dst</th>\n",
       "      <th>is_sm_ips_ports</th>\n",
       "    </tr>\n",
       "  </thead>\n",
       "  <tbody>\n",
       "    <tr>\n",
       "      <th>0</th>\n",
       "      <td>0.179469</td>\n",
       "      <td>0.4</td>\n",
       "      <td>0.2</td>\n",
       "      <td>-0.131902</td>\n",
       "      <td>0.007260</td>\n",
       "      <td>-0.025220</td>\n",
       "      <td>-0.010417</td>\n",
       "      <td>0.892857</td>\n",
       "      <td>-0.009738</td>\n",
       "      <td>0.253129</td>\n",
       "      <td>...</td>\n",
       "      <td>-0.166667</td>\n",
       "      <td>0.00</td>\n",
       "      <td>0.0</td>\n",
       "      <td>-0.181818</td>\n",
       "      <td>0.0</td>\n",
       "      <td>0.0</td>\n",
       "      <td>0.0</td>\n",
       "      <td>-0.285714</td>\n",
       "      <td>-0.3</td>\n",
       "      <td>0.0</td>\n",
       "    </tr>\n",
       "    <tr>\n",
       "      <th>1</th>\n",
       "      <td>0.970450</td>\n",
       "      <td>1.2</td>\n",
       "      <td>3.6</td>\n",
       "      <td>0.233129</td>\n",
       "      <td>37.976407</td>\n",
       "      <td>-0.025185</td>\n",
       "      <td>-1.000000</td>\n",
       "      <td>0.884921</td>\n",
       "      <td>-0.009803</td>\n",
       "      <td>18.032918</td>\n",
       "      <td>...</td>\n",
       "      <td>-0.166667</td>\n",
       "      <td>0.00</td>\n",
       "      <td>0.0</td>\n",
       "      <td>-0.090909</td>\n",
       "      <td>0.0</td>\n",
       "      <td>0.0</td>\n",
       "      <td>0.0</td>\n",
       "      <td>-0.285714</td>\n",
       "      <td>0.2</td>\n",
       "      <td>0.0</td>\n",
       "    </tr>\n",
       "    <tr>\n",
       "      <th>2</th>\n",
       "      <td>2.427244</td>\n",
       "      <td>0.6</td>\n",
       "      <td>1.4</td>\n",
       "      <td>-0.050613</td>\n",
       "      <td>11.816697</td>\n",
       "      <td>-0.025700</td>\n",
       "      <td>-1.000000</td>\n",
       "      <td>0.884921</td>\n",
       "      <td>-0.009880</td>\n",
       "      <td>2.136200</td>\n",
       "      <td>...</td>\n",
       "      <td>0.000000</td>\n",
       "      <td>0.00</td>\n",
       "      <td>0.0</td>\n",
       "      <td>0.000000</td>\n",
       "      <td>0.0</td>\n",
       "      <td>0.0</td>\n",
       "      <td>0.0</td>\n",
       "      <td>-0.142857</td>\n",
       "      <td>0.2</td>\n",
       "      <td>0.0</td>\n",
       "    </tr>\n",
       "    <tr>\n",
       "      <th>3</th>\n",
       "      <td>2.514830</td>\n",
       "      <td>1.0</td>\n",
       "      <td>1.0</td>\n",
       "      <td>0.151840</td>\n",
       "      <td>0.549909</td>\n",
       "      <td>-0.025704</td>\n",
       "      <td>-1.000000</td>\n",
       "      <td>0.884921</td>\n",
       "      <td>-0.009867</td>\n",
       "      <td>0.068652</td>\n",
       "      <td>...</td>\n",
       "      <td>0.000000</td>\n",
       "      <td>0.00</td>\n",
       "      <td>0.0</td>\n",
       "      <td>0.000000</td>\n",
       "      <td>1.0</td>\n",
       "      <td>1.0</td>\n",
       "      <td>0.0</td>\n",
       "      <td>-0.142857</td>\n",
       "      <td>-0.3</td>\n",
       "      <td>0.0</td>\n",
       "    </tr>\n",
       "    <tr>\n",
       "      <th>4</th>\n",
       "      <td>0.670406</td>\n",
       "      <td>0.8</td>\n",
       "      <td>0.4</td>\n",
       "      <td>0.079755</td>\n",
       "      <td>0.094374</td>\n",
       "      <td>-0.025546</td>\n",
       "      <td>0.000000</td>\n",
       "      <td>0.884921</td>\n",
       "      <td>-0.009801</td>\n",
       "      <td>0.091221</td>\n",
       "      <td>...</td>\n",
       "      <td>0.000000</td>\n",
       "      <td>0.25</td>\n",
       "      <td>0.0</td>\n",
       "      <td>3.363636</td>\n",
       "      <td>0.0</td>\n",
       "      <td>0.0</td>\n",
       "      <td>0.0</td>\n",
       "      <td>-0.142857</td>\n",
       "      <td>3.5</td>\n",
       "      <td>0.0</td>\n",
       "    </tr>\n",
       "    <tr>\n",
       "      <th>...</th>\n",
       "      <td>...</td>\n",
       "      <td>...</td>\n",
       "      <td>...</td>\n",
       "      <td>...</td>\n",
       "      <td>...</td>\n",
       "      <td>...</td>\n",
       "      <td>...</td>\n",
       "      <td>...</td>\n",
       "      <td>...</td>\n",
       "      <td>...</td>\n",
       "      <td>...</td>\n",
       "      <td>...</td>\n",
       "      <td>...</td>\n",
       "      <td>...</td>\n",
       "      <td>...</td>\n",
       "      <td>...</td>\n",
       "      <td>...</td>\n",
       "      <td>...</td>\n",
       "      <td>...</td>\n",
       "      <td>...</td>\n",
       "      <td>...</td>\n",
       "    </tr>\n",
       "    <tr>\n",
       "      <th>175336</th>\n",
       "      <td>-0.002355</td>\n",
       "      <td>0.0</td>\n",
       "      <td>-0.2</td>\n",
       "      <td>-0.242331</td>\n",
       "      <td>-0.148820</td>\n",
       "      <td>0.863309</td>\n",
       "      <td>0.000000</td>\n",
       "      <td>-0.115079</td>\n",
       "      <td>0.560186</td>\n",
       "      <td>-0.051967</td>\n",
       "      <td>...</td>\n",
       "      <td>3.666667</td>\n",
       "      <td>5.75</td>\n",
       "      <td>6.0</td>\n",
       "      <td>1.909091</td>\n",
       "      <td>0.0</td>\n",
       "      <td>0.0</td>\n",
       "      <td>0.0</td>\n",
       "      <td>3.000000</td>\n",
       "      <td>2.0</td>\n",
       "      <td>0.0</td>\n",
       "    </tr>\n",
       "    <tr>\n",
       "      <th>175337</th>\n",
       "      <td>0.754692</td>\n",
       "      <td>0.8</td>\n",
       "      <td>0.6</td>\n",
       "      <td>0.145706</td>\n",
       "      <td>0.172414</td>\n",
       "      <td>-0.025544</td>\n",
       "      <td>0.000000</td>\n",
       "      <td>0.884921</td>\n",
       "      <td>-0.009798</td>\n",
       "      <td>0.124133</td>\n",
       "      <td>...</td>\n",
       "      <td>-0.166667</td>\n",
       "      <td>0.00</td>\n",
       "      <td>0.0</td>\n",
       "      <td>-0.090909</td>\n",
       "      <td>0.0</td>\n",
       "      <td>0.0</td>\n",
       "      <td>0.0</td>\n",
       "      <td>-0.285714</td>\n",
       "      <td>-0.3</td>\n",
       "      <td>0.0</td>\n",
       "    </tr>\n",
       "    <tr>\n",
       "      <th>175338</th>\n",
       "      <td>-0.002355</td>\n",
       "      <td>0.0</td>\n",
       "      <td>-0.2</td>\n",
       "      <td>-0.242331</td>\n",
       "      <td>-0.148820</td>\n",
       "      <td>0.863309</td>\n",
       "      <td>0.000000</td>\n",
       "      <td>-0.115079</td>\n",
       "      <td>0.560186</td>\n",
       "      <td>-0.051967</td>\n",
       "      <td>...</td>\n",
       "      <td>0.166667</td>\n",
       "      <td>0.50</td>\n",
       "      <td>1.0</td>\n",
       "      <td>0.909091</td>\n",
       "      <td>0.0</td>\n",
       "      <td>0.0</td>\n",
       "      <td>0.0</td>\n",
       "      <td>0.000000</td>\n",
       "      <td>0.8</td>\n",
       "      <td>0.0</td>\n",
       "    </tr>\n",
       "    <tr>\n",
       "      <th>175339</th>\n",
       "      <td>-0.002355</td>\n",
       "      <td>0.0</td>\n",
       "      <td>-0.2</td>\n",
       "      <td>-0.242331</td>\n",
       "      <td>-0.148820</td>\n",
       "      <td>0.863309</td>\n",
       "      <td>0.000000</td>\n",
       "      <td>-0.115079</td>\n",
       "      <td>0.560186</td>\n",
       "      <td>-0.051967</td>\n",
       "      <td>...</td>\n",
       "      <td>4.666667</td>\n",
       "      <td>7.25</td>\n",
       "      <td>6.5</td>\n",
       "      <td>2.454545</td>\n",
       "      <td>0.0</td>\n",
       "      <td>0.0</td>\n",
       "      <td>0.0</td>\n",
       "      <td>3.857143</td>\n",
       "      <td>2.6</td>\n",
       "      <td>0.0</td>\n",
       "    </tr>\n",
       "    <tr>\n",
       "      <th>175340</th>\n",
       "      <td>-0.002355</td>\n",
       "      <td>0.0</td>\n",
       "      <td>-0.2</td>\n",
       "      <td>-0.242331</td>\n",
       "      <td>-0.148820</td>\n",
       "      <td>0.863309</td>\n",
       "      <td>0.000000</td>\n",
       "      <td>-0.115079</td>\n",
       "      <td>0.560186</td>\n",
       "      <td>-0.051967</td>\n",
       "      <td>...</td>\n",
       "      <td>4.666667</td>\n",
       "      <td>7.25</td>\n",
       "      <td>7.5</td>\n",
       "      <td>2.454545</td>\n",
       "      <td>0.0</td>\n",
       "      <td>0.0</td>\n",
       "      <td>0.0</td>\n",
       "      <td>3.857143</td>\n",
       "      <td>2.6</td>\n",
       "      <td>0.0</td>\n",
       "    </tr>\n",
       "  </tbody>\n",
       "</table>\n",
       "<p>175341 rows × 39 columns</p>\n",
       "</div>"
      ],
      "text/plain": [
       "             dur  spkts  dpkts    sbytes     dbytes      rate      sttl  \\\n",
       "0       0.179469    0.4    0.2 -0.131902   0.007260 -0.025220 -0.010417   \n",
       "1       0.970450    1.2    3.6  0.233129  37.976407 -0.025185 -1.000000   \n",
       "2       2.427244    0.6    1.4 -0.050613  11.816697 -0.025700 -1.000000   \n",
       "3       2.514830    1.0    1.0  0.151840   0.549909 -0.025704 -1.000000   \n",
       "4       0.670406    0.8    0.4  0.079755   0.094374 -0.025546  0.000000   \n",
       "...          ...    ...    ...       ...        ...       ...       ...   \n",
       "175336 -0.002355    0.0   -0.2 -0.242331  -0.148820  0.863309  0.000000   \n",
       "175337  0.754692    0.8    0.6  0.145706   0.172414 -0.025544  0.000000   \n",
       "175338 -0.002355    0.0   -0.2 -0.242331  -0.148820  0.863309  0.000000   \n",
       "175339 -0.002355    0.0   -0.2 -0.242331  -0.148820  0.863309  0.000000   \n",
       "175340 -0.002355    0.0   -0.2 -0.242331  -0.148820  0.863309  0.000000   \n",
       "\n",
       "            dttl     sload      dload  ...  ct_dst_ltm  ct_src_dport_ltm  \\\n",
       "0       0.892857 -0.009738   0.253129  ...   -0.166667              0.00   \n",
       "1       0.884921 -0.009803  18.032918  ...   -0.166667              0.00   \n",
       "2       0.884921 -0.009880   2.136200  ...    0.000000              0.00   \n",
       "3       0.884921 -0.009867   0.068652  ...    0.000000              0.00   \n",
       "4       0.884921 -0.009801   0.091221  ...    0.000000              0.25   \n",
       "...          ...       ...        ...  ...         ...               ...   \n",
       "175336 -0.115079  0.560186  -0.051967  ...    3.666667              5.75   \n",
       "175337  0.884921 -0.009798   0.124133  ...   -0.166667              0.00   \n",
       "175338 -0.115079  0.560186  -0.051967  ...    0.166667              0.50   \n",
       "175339 -0.115079  0.560186  -0.051967  ...    4.666667              7.25   \n",
       "175340 -0.115079  0.560186  -0.051967  ...    4.666667              7.25   \n",
       "\n",
       "        ct_dst_sport_ltm  ct_dst_src_ltm  is_ftp_login  ct_ftp_cmd  \\\n",
       "0                    0.0       -0.181818           0.0         0.0   \n",
       "1                    0.0       -0.090909           0.0         0.0   \n",
       "2                    0.0        0.000000           0.0         0.0   \n",
       "3                    0.0        0.000000           1.0         1.0   \n",
       "4                    0.0        3.363636           0.0         0.0   \n",
       "...                  ...             ...           ...         ...   \n",
       "175336               6.0        1.909091           0.0         0.0   \n",
       "175337               0.0       -0.090909           0.0         0.0   \n",
       "175338               1.0        0.909091           0.0         0.0   \n",
       "175339               6.5        2.454545           0.0         0.0   \n",
       "175340               7.5        2.454545           0.0         0.0   \n",
       "\n",
       "        ct_flw_http_mthd  ct_src_ltm  ct_srv_dst  is_sm_ips_ports  \n",
       "0                    0.0   -0.285714        -0.3              0.0  \n",
       "1                    0.0   -0.285714         0.2              0.0  \n",
       "2                    0.0   -0.142857         0.2              0.0  \n",
       "3                    0.0   -0.142857        -0.3              0.0  \n",
       "4                    0.0   -0.142857         3.5              0.0  \n",
       "...                  ...         ...         ...              ...  \n",
       "175336               0.0    3.000000         2.0              0.0  \n",
       "175337               0.0   -0.285714        -0.3              0.0  \n",
       "175338               0.0    0.000000         0.8              0.0  \n",
       "175339               0.0    3.857143         2.6              0.0  \n",
       "175340               0.0    3.857143         2.6              0.0  \n",
       "\n",
       "[175341 rows x 39 columns]"
      ]
     },
     "execution_count": 6,
     "metadata": {},
     "output_type": "execute_result"
    }
   ],
   "source": [
    "# encoding the values\n",
    "output1 = pd.get_dummies(output1)\n",
    "\n",
    "rbs= RobustScaler()\n",
    "rbs.fit(input_numerical_values)\n",
    "input_numerical_values = pd.DataFrame(rbs.transform(input_numerical_values), columns=input_numericals)\n",
    "input_numerical_values"
   ]
  },
  {
   "cell_type": "code",
   "execution_count": 7,
   "id": "16abf2f8",
   "metadata": {},
   "outputs": [
    {
     "data": {
      "text/plain": [
       "Normal            31.94\n",
       "Generic           22.81\n",
       "Exploits          19.04\n",
       "Fuzzers           10.37\n",
       "DoS                6.99\n",
       "Reconnaissance     5.98\n",
       "Analysis           1.14\n",
       "Backdoor           1.00\n",
       "Shellcode          0.65\n",
       "Worms              0.07\n",
       "Name: attack_cat, dtype: float64"
      ]
     },
     "execution_count": 7,
     "metadata": {},
     "output_type": "execute_result"
    }
   ],
   "source": [
    "(train_df['attack_cat'].value_counts() / train_df.shape[0]).round(4) * 100"
   ]
  },
  {
   "cell_type": "code",
   "execution_count": 8,
   "id": "5a89170f",
   "metadata": {
    "scrolled": true
   },
   "outputs": [
    {
     "data": {
      "text/html": [
       "<div>\n",
       "<style scoped>\n",
       "    .dataframe tbody tr th:only-of-type {\n",
       "        vertical-align: middle;\n",
       "    }\n",
       "\n",
       "    .dataframe tbody tr th {\n",
       "        vertical-align: top;\n",
       "    }\n",
       "\n",
       "    .dataframe thead th {\n",
       "        text-align: right;\n",
       "    }\n",
       "</style>\n",
       "<table border=\"1\" class=\"dataframe\">\n",
       "  <thead>\n",
       "    <tr style=\"text-align: right;\">\n",
       "      <th></th>\n",
       "      <th>attack_cat_Analysis</th>\n",
       "      <th>attack_cat_Backdoor</th>\n",
       "      <th>attack_cat_DoS</th>\n",
       "      <th>attack_cat_Exploits</th>\n",
       "      <th>attack_cat_Fuzzers</th>\n",
       "      <th>attack_cat_Generic</th>\n",
       "      <th>attack_cat_Normal</th>\n",
       "      <th>attack_cat_Reconnaissance</th>\n",
       "      <th>attack_cat_Shellcode</th>\n",
       "      <th>attack_cat_Worms</th>\n",
       "    </tr>\n",
       "  </thead>\n",
       "  <tbody>\n",
       "    <tr>\n",
       "      <th>0</th>\n",
       "      <td>0</td>\n",
       "      <td>0</td>\n",
       "      <td>0</td>\n",
       "      <td>0</td>\n",
       "      <td>0</td>\n",
       "      <td>0</td>\n",
       "      <td>1</td>\n",
       "      <td>0</td>\n",
       "      <td>0</td>\n",
       "      <td>0</td>\n",
       "    </tr>\n",
       "    <tr>\n",
       "      <th>1</th>\n",
       "      <td>0</td>\n",
       "      <td>0</td>\n",
       "      <td>0</td>\n",
       "      <td>0</td>\n",
       "      <td>0</td>\n",
       "      <td>0</td>\n",
       "      <td>1</td>\n",
       "      <td>0</td>\n",
       "      <td>0</td>\n",
       "      <td>0</td>\n",
       "    </tr>\n",
       "    <tr>\n",
       "      <th>2</th>\n",
       "      <td>0</td>\n",
       "      <td>0</td>\n",
       "      <td>0</td>\n",
       "      <td>0</td>\n",
       "      <td>0</td>\n",
       "      <td>0</td>\n",
       "      <td>1</td>\n",
       "      <td>0</td>\n",
       "      <td>0</td>\n",
       "      <td>0</td>\n",
       "    </tr>\n",
       "    <tr>\n",
       "      <th>3</th>\n",
       "      <td>0</td>\n",
       "      <td>0</td>\n",
       "      <td>0</td>\n",
       "      <td>0</td>\n",
       "      <td>0</td>\n",
       "      <td>0</td>\n",
       "      <td>1</td>\n",
       "      <td>0</td>\n",
       "      <td>0</td>\n",
       "      <td>0</td>\n",
       "    </tr>\n",
       "    <tr>\n",
       "      <th>4</th>\n",
       "      <td>0</td>\n",
       "      <td>0</td>\n",
       "      <td>0</td>\n",
       "      <td>0</td>\n",
       "      <td>0</td>\n",
       "      <td>0</td>\n",
       "      <td>1</td>\n",
       "      <td>0</td>\n",
       "      <td>0</td>\n",
       "      <td>0</td>\n",
       "    </tr>\n",
       "    <tr>\n",
       "      <th>...</th>\n",
       "      <td>...</td>\n",
       "      <td>...</td>\n",
       "      <td>...</td>\n",
       "      <td>...</td>\n",
       "      <td>...</td>\n",
       "      <td>...</td>\n",
       "      <td>...</td>\n",
       "      <td>...</td>\n",
       "      <td>...</td>\n",
       "      <td>...</td>\n",
       "    </tr>\n",
       "    <tr>\n",
       "      <th>175336</th>\n",
       "      <td>0</td>\n",
       "      <td>0</td>\n",
       "      <td>0</td>\n",
       "      <td>0</td>\n",
       "      <td>0</td>\n",
       "      <td>1</td>\n",
       "      <td>0</td>\n",
       "      <td>0</td>\n",
       "      <td>0</td>\n",
       "      <td>0</td>\n",
       "    </tr>\n",
       "    <tr>\n",
       "      <th>175337</th>\n",
       "      <td>0</td>\n",
       "      <td>0</td>\n",
       "      <td>0</td>\n",
       "      <td>0</td>\n",
       "      <td>0</td>\n",
       "      <td>0</td>\n",
       "      <td>0</td>\n",
       "      <td>0</td>\n",
       "      <td>1</td>\n",
       "      <td>0</td>\n",
       "    </tr>\n",
       "    <tr>\n",
       "      <th>175338</th>\n",
       "      <td>0</td>\n",
       "      <td>0</td>\n",
       "      <td>0</td>\n",
       "      <td>0</td>\n",
       "      <td>0</td>\n",
       "      <td>1</td>\n",
       "      <td>0</td>\n",
       "      <td>0</td>\n",
       "      <td>0</td>\n",
       "      <td>0</td>\n",
       "    </tr>\n",
       "    <tr>\n",
       "      <th>175339</th>\n",
       "      <td>0</td>\n",
       "      <td>0</td>\n",
       "      <td>0</td>\n",
       "      <td>0</td>\n",
       "      <td>0</td>\n",
       "      <td>1</td>\n",
       "      <td>0</td>\n",
       "      <td>0</td>\n",
       "      <td>0</td>\n",
       "      <td>0</td>\n",
       "    </tr>\n",
       "    <tr>\n",
       "      <th>175340</th>\n",
       "      <td>0</td>\n",
       "      <td>0</td>\n",
       "      <td>0</td>\n",
       "      <td>0</td>\n",
       "      <td>0</td>\n",
       "      <td>1</td>\n",
       "      <td>0</td>\n",
       "      <td>0</td>\n",
       "      <td>0</td>\n",
       "      <td>0</td>\n",
       "    </tr>\n",
       "  </tbody>\n",
       "</table>\n",
       "<p>175341 rows × 10 columns</p>\n",
       "</div>"
      ],
      "text/plain": [
       "        attack_cat_Analysis  attack_cat_Backdoor  attack_cat_DoS  \\\n",
       "0                         0                    0               0   \n",
       "1                         0                    0               0   \n",
       "2                         0                    0               0   \n",
       "3                         0                    0               0   \n",
       "4                         0                    0               0   \n",
       "...                     ...                  ...             ...   \n",
       "175336                    0                    0               0   \n",
       "175337                    0                    0               0   \n",
       "175338                    0                    0               0   \n",
       "175339                    0                    0               0   \n",
       "175340                    0                    0               0   \n",
       "\n",
       "        attack_cat_Exploits  attack_cat_Fuzzers  attack_cat_Generic  \\\n",
       "0                         0                   0                   0   \n",
       "1                         0                   0                   0   \n",
       "2                         0                   0                   0   \n",
       "3                         0                   0                   0   \n",
       "4                         0                   0                   0   \n",
       "...                     ...                 ...                 ...   \n",
       "175336                    0                   0                   1   \n",
       "175337                    0                   0                   0   \n",
       "175338                    0                   0                   1   \n",
       "175339                    0                   0                   1   \n",
       "175340                    0                   0                   1   \n",
       "\n",
       "        attack_cat_Normal  attack_cat_Reconnaissance  attack_cat_Shellcode  \\\n",
       "0                       1                          0                     0   \n",
       "1                       1                          0                     0   \n",
       "2                       1                          0                     0   \n",
       "3                       1                          0                     0   \n",
       "4                       1                          0                     0   \n",
       "...                   ...                        ...                   ...   \n",
       "175336                  0                          0                     0   \n",
       "175337                  0                          0                     1   \n",
       "175338                  0                          0                     0   \n",
       "175339                  0                          0                     0   \n",
       "175340                  0                          0                     0   \n",
       "\n",
       "        attack_cat_Worms  \n",
       "0                      0  \n",
       "1                      0  \n",
       "2                      0  \n",
       "3                      0  \n",
       "4                      0  \n",
       "...                  ...  \n",
       "175336                 0  \n",
       "175337                 0  \n",
       "175338                 0  \n",
       "175339                 0  \n",
       "175340                 0  \n",
       "\n",
       "[175341 rows x 10 columns]"
      ]
     },
     "execution_count": 8,
     "metadata": {},
     "output_type": "execute_result"
    }
   ],
   "source": [
    "output1"
   ]
  },
  {
   "cell_type": "code",
   "execution_count": 9,
   "id": "13dacfd8",
   "metadata": {},
   "outputs": [],
   "source": [
    " from sklearn.metrics import f1_score\n"
   ]
  },
  {
   "cell_type": "code",
   "execution_count": 11,
   "id": "17a81162",
   "metadata": {},
   "outputs": [],
   "source": [
    "import keras.backend as K"
   ]
  },
  {
   "cell_type": "code",
   "execution_count": 12,
   "id": "e03b06e9",
   "metadata": {},
   "outputs": [],
   "source": [
    "def get_f1(y_true, y_pred): #taken from old keras source code\n",
    "    true_positives = K.sum(K.round(K.clip(y_true * y_pred, 0, 1)))\n",
    "    possible_positives = K.sum(K.round(K.clip(y_true, 0, 1)))\n",
    "    predicted_positives = K.sum(K.round(K.clip(y_pred, 0, 1)))\n",
    "    precision = true_positives / (predicted_positives + K.epsilon())\n",
    "    recall = true_positives / (possible_positives + K.epsilon())\n",
    "    return 2*(precision*recall)/(precision+recall+K.epsilon())\n",
    "    "
   ]
  },
  {
   "cell_type": "code",
   "execution_count": 13,
   "id": "f895a706",
   "metadata": {},
   "outputs": [
    {
     "name": "stdout",
     "output_type": "stream",
     "text": [
      "Model: \"sequential\"\n",
      "_________________________________________________________________\n",
      " Layer (type)                Output Shape              Param #   \n",
      "=================================================================\n",
      " dense (Dense)               (None, 39)                1560      \n",
      "                                                                 \n",
      " dense_1 (Dense)             (None, 10)                400       \n",
      "                                                                 \n",
      "=================================================================\n",
      "Total params: 1,960\n",
      "Trainable params: 1,960\n",
      "Non-trainable params: 0\n",
      "_________________________________________________________________\n"
     ]
    }
   ],
   "source": [
    "model = Sequential()\n",
    "model.add(Dense(39, input_dim=39, activation='relu'))\n",
    "model.add(Dense(10, activation='softmax'))\n",
    "model.compile(loss='categorical_crossentropy', optimizer='adam', metrics=['accuracy','Precision','Recall',get_f1])\n",
    "model.summary()"
   ]
  },
  {
   "cell_type": "code",
   "execution_count": 14,
   "id": "ffd888db",
   "metadata": {},
   "outputs": [
    {
     "name": "stdout",
     "output_type": "stream",
     "text": [
      "Epoch 1/10\n",
      "5480/5480 [==============================] - 8s 1ms/step - loss: 46.7196 - accuracy: 0.7119 - precision: 0.8595 - recall: 0.5700 - get_f1: 0.6808\n",
      "Epoch 2/10\n",
      "5480/5480 [==============================] - 7s 1ms/step - loss: 32.8047 - accuracy: 0.7547 - precision: 0.8668 - recall: 0.6443 - get_f1: 0.7371\n",
      "Epoch 3/10\n",
      "5480/5480 [==============================] - 8s 1ms/step - loss: 26.9324 - accuracy: 0.7659 - precision: 0.8727 - recall: 0.6663 - get_f1: 0.7538\n",
      "Epoch 4/10\n",
      "5480/5480 [==============================] - 8s 2ms/step - loss: 23.2289 - accuracy: 0.7730 - precision: 0.8757 - recall: 0.6774 - get_f1: 0.7622\n",
      "Epoch 5/10\n",
      "5480/5480 [==============================] - 7s 1ms/step - loss: 16.5810 - accuracy: 0.7796 - precision: 0.8820 - recall: 0.6855 - get_f1: 0.7697\n",
      "Epoch 6/10\n",
      "5480/5480 [==============================] - 7s 1ms/step - loss: 11.2962 - accuracy: 0.7793 - precision: 0.8794 - recall: 0.6867 - get_f1: 0.7695\n",
      "Epoch 7/10\n",
      "5480/5480 [==============================] - 7s 1ms/step - loss: 10.0152 - accuracy: 0.7816 - precision: 0.8817 - recall: 0.6897 - get_f1: 0.7724\n",
      "Epoch 8/10\n",
      "5480/5480 [==============================] - 7s 1ms/step - loss: 4.9581 - accuracy: 0.7815 - precision: 0.8800 - recall: 0.6931 - get_f1: 0.7738\n",
      "Epoch 9/10\n",
      "5480/5480 [==============================] - 7s 1ms/step - loss: 0.6282 - accuracy: 0.7756 - precision: 0.8888 - recall: 0.6755 - get_f1: 0.7657\n",
      "Epoch 10/10\n",
      "5480/5480 [==============================] - 8s 1ms/step - loss: 0.5779 - accuracy: 0.7765 - precision: 0.8901 - recall: 0.6744 - get_f1: 0.7655\n"
     ]
    },
    {
     "data": {
      "text/plain": [
       "<keras.callbacks.History at 0x27da8173730>"
      ]
     },
     "execution_count": 14,
     "metadata": {},
     "output_type": "execute_result"
    }
   ],
   "source": [
    "# training the model\n",
    "model.fit(input_numerical_values, output1, epochs=10)"
   ]
  },
  {
   "cell_type": "code",
   "execution_count": 15,
   "id": "8a2533d2",
   "metadata": {},
   "outputs": [
    {
     "name": "stdout",
     "output_type": "stream",
     "text": [
      "Model: \"sequential_1\"\n",
      "_________________________________________________________________\n",
      " Layer (type)                Output Shape              Param #   \n",
      "=================================================================\n",
      " dense_2 (Dense)             (None, 26)                1040      \n",
      "                                                                 \n",
      " dense_3 (Dense)             (None, 10)                270       \n",
      "                                                                 \n",
      "=================================================================\n",
      "Total params: 1,310\n",
      "Trainable params: 1,310\n",
      "Non-trainable params: 0\n",
      "_________________________________________________________________\n"
     ]
    }
   ],
   "source": [
    "model = Sequential()\n",
    "model.add(Dense(26, input_dim=39, activation='relu'))\n",
    "model.add(Dense(10, activation='softmax'))\n",
    "model.compile(loss='categorical_crossentropy', optimizer='adam', metrics=['accuracy','Precision','Recall',get_f1])\n",
    "model.summary()"
   ]
  },
  {
   "cell_type": "code",
   "execution_count": 16,
   "id": "9117d6a5",
   "metadata": {},
   "outputs": [
    {
     "name": "stdout",
     "output_type": "stream",
     "text": [
      "Epoch 1/10\n",
      "5480/5480 [==============================] - 8s 1ms/step - loss: 31.2139 - accuracy: 0.6997 - precision: 0.8572 - recall: 0.5586 - get_f1: 0.6722\n",
      "Epoch 2/10\n",
      "5480/5480 [==============================] - 8s 1ms/step - loss: 29.9355 - accuracy: 0.7406 - precision: 0.8652 - recall: 0.6260 - get_f1: 0.7242\n",
      "Epoch 3/10\n",
      "5480/5480 [==============================] - 7s 1ms/step - loss: 24.7727 - accuracy: 0.7529 - precision: 0.8709 - recall: 0.6491 - get_f1: 0.7419\n",
      "Epoch 4/10\n",
      "5480/5480 [==============================] - 7s 1ms/step - loss: 20.7897 - accuracy: 0.7645 - precision: 0.8760 - recall: 0.6638 - get_f1: 0.7534\n",
      "Epoch 5/10\n",
      "5480/5480 [==============================] - 7s 1ms/step - loss: 18.5090 - accuracy: 0.7727 - precision: 0.8751 - recall: 0.6785 - get_f1: 0.7627\n",
      "Epoch 6/10\n",
      "5480/5480 [==============================] - 7s 1ms/step - loss: 21.1932 - accuracy: 0.7746 - precision: 0.8760 - recall: 0.6836 - get_f1: 0.7662\n",
      "Epoch 7/10\n",
      "5480/5480 [==============================] - 7s 1ms/step - loss: 18.9710 - accuracy: 0.7771 - precision: 0.8771 - recall: 0.6851 - get_f1: 0.7677\n",
      "Epoch 8/10\n",
      "5480/5480 [==============================] - 7s 1ms/step - loss: 11.7837 - accuracy: 0.7786 - precision: 0.8793 - recall: 0.6868 - get_f1: 0.7696\n",
      "Epoch 9/10\n",
      "5480/5480 [==============================] - 7s 1ms/step - loss: 9.4533 - accuracy: 0.7789 - precision: 0.8812 - recall: 0.6867 - get_f1: 0.7702\n",
      "Epoch 10/10\n",
      "5480/5480 [==============================] - 7s 1ms/step - loss: 6.6238 - accuracy: 0.7803 - precision: 0.8833 - recall: 0.6862 - get_f1: 0.7707\n"
     ]
    },
    {
     "data": {
      "text/plain": [
       "<keras.callbacks.History at 0x27da8581df0>"
      ]
     },
     "execution_count": 16,
     "metadata": {},
     "output_type": "execute_result"
    }
   ],
   "source": [
    "# training the model\n",
    "model.fit(input_numerical_values, output1, epochs=10)"
   ]
  },
  {
   "cell_type": "code",
   "execution_count": 17,
   "id": "070af7b9",
   "metadata": {},
   "outputs": [
    {
     "name": "stdout",
     "output_type": "stream",
     "text": [
      "Model: \"sequential_2\"\n",
      "_________________________________________________________________\n",
      " Layer (type)                Output Shape              Param #   \n",
      "=================================================================\n",
      " dense_4 (Dense)             (None, 39)                1560      \n",
      "                                                                 \n",
      " dense_5 (Dense)             (None, 26)                1040      \n",
      "                                                                 \n",
      " dense_6 (Dense)             (None, 10)                270       \n",
      "                                                                 \n",
      "=================================================================\n",
      "Total params: 2,870\n",
      "Trainable params: 2,870\n",
      "Non-trainable params: 0\n",
      "_________________________________________________________________\n"
     ]
    }
   ],
   "source": [
    "model = Sequential()\n",
    "model.add(Dense(39, input_dim=39, activation='relu'))\n",
    "model.add(Dense(26, activation='relu'))\n",
    "model.add(Dense(10, activation='softmax'))\n",
    "model.compile(loss='categorical_crossentropy', optimizer='adam', metrics=['accuracy','Precision','Recall',get_f1])\n",
    "model.summary()"
   ]
  },
  {
   "cell_type": "code",
   "execution_count": 18,
   "id": "9a66edeb",
   "metadata": {},
   "outputs": [
    {
     "name": "stdout",
     "output_type": "stream",
     "text": [
      "Epoch 1/10\n",
      "5480/5480 [==============================] - 8s 1ms/step - loss: 46.8640 - accuracy: 0.7103 - precision: 0.8634 - recall: 0.5641 - get_f1: 0.6764\n",
      "Epoch 2/10\n",
      "5480/5480 [==============================] - 8s 1ms/step - loss: 7.0685 - accuracy: 0.7690 - precision: 0.8909 - recall: 0.6464 - get_f1: 0.7470\n",
      "Epoch 3/10\n",
      "5480/5480 [==============================] - 7s 1ms/step - loss: 0.6123 - accuracy: 0.7721 - precision: 0.8930 - recall: 0.6578 - get_f1: 0.7554\n",
      "Epoch 4/10\n",
      "5480/5480 [==============================] - 7s 1ms/step - loss: 0.5843 - accuracy: 0.7703 - precision: 0.8921 - recall: 0.6583 - get_f1: 0.7555\n",
      "Epoch 5/10\n",
      "5480/5480 [==============================] - 7s 1ms/step - loss: 0.5690 - accuracy: 0.7726 - precision: 0.8906 - recall: 0.6644 - get_f1: 0.7589\n",
      "Epoch 6/10\n",
      "5480/5480 [==============================] - 7s 1ms/step - loss: 0.5572 - accuracy: 0.7759 - precision: 0.8940 - recall: 0.6683 - get_f1: 0.7628\n",
      "Epoch 7/10\n",
      "5480/5480 [==============================] - 7s 1ms/step - loss: 0.5476 - accuracy: 0.7790 - precision: 0.8938 - recall: 0.6733 - get_f1: 0.7660\n",
      "Epoch 8/10\n",
      "5480/5480 [==============================] - 8s 1ms/step - loss: 0.5420 - accuracy: 0.7798 - precision: 0.8944 - recall: 0.6746 - get_f1: 0.7671\n",
      "Epoch 9/10\n",
      "5480/5480 [==============================] - 8s 1ms/step - loss: 0.5357 - accuracy: 0.7817 - precision: 0.8940 - recall: 0.6773 - get_f1: 0.7688\n",
      "Epoch 10/10\n",
      "5480/5480 [==============================] - 8s 1ms/step - loss: 0.5375 - accuracy: 0.7832 - precision: 0.8937 - recall: 0.6807 - get_f1: 0.7709\n"
     ]
    },
    {
     "data": {
      "text/plain": [
       "<keras.callbacks.History at 0x27dad647730>"
      ]
     },
     "execution_count": 18,
     "metadata": {},
     "output_type": "execute_result"
    }
   ],
   "source": [
    "# training the model\n",
    "model.fit(input_numerical_values, output1, epochs=10)"
   ]
  },
  {
   "cell_type": "code",
   "execution_count": 19,
   "id": "a1a764fe",
   "metadata": {},
   "outputs": [
    {
     "name": "stdout",
     "output_type": "stream",
     "text": [
      "Model: \"sequential_3\"\n",
      "_________________________________________________________________\n",
      " Layer (type)                Output Shape              Param #   \n",
      "=================================================================\n",
      " dense_7 (Dense)             (None, 39)                1560      \n",
      "                                                                 \n",
      " dense_8 (Dense)             (None, 26)                1040      \n",
      "                                                                 \n",
      " dense_9 (Dense)             (None, 17)                459       \n",
      "                                                                 \n",
      " dense_10 (Dense)            (None, 10)                180       \n",
      "                                                                 \n",
      "=================================================================\n",
      "Total params: 3,239\n",
      "Trainable params: 3,239\n",
      "Non-trainable params: 0\n",
      "_________________________________________________________________\n"
     ]
    }
   ],
   "source": [
    "model = Sequential()\n",
    "model.add(Dense(39, input_dim=39, activation='relu'))\n",
    "model.add(Dense(26, activation='relu'))\n",
    "model.add(Dense(17, activation='relu'))\n",
    "model.add(Dense(10, activation='softmax'))\n",
    "model.compile(loss='categorical_crossentropy', optimizer='adam', metrics=['accuracy','Precision','Recall',get_f1])\n",
    "model.summary()"
   ]
  },
  {
   "cell_type": "code",
   "execution_count": 20,
   "id": "711f58cd",
   "metadata": {},
   "outputs": [
    {
     "name": "stdout",
     "output_type": "stream",
     "text": [
      "Epoch 1/10\n",
      "5480/5480 [==============================] - 9s 1ms/step - loss: 9.1279 - accuracy: 0.6999 - precision: 0.8959 - recall: 0.5442 - get_f1: 0.6710\n",
      "Epoch 2/10\n",
      "5480/5480 [==============================] - 8s 1ms/step - loss: 0.6453 - accuracy: 0.7541 - precision: 0.8897 - recall: 0.6333 - get_f1: 0.7375\n",
      "Epoch 3/10\n",
      "5480/5480 [==============================] - 8s 1ms/step - loss: 0.6225 - accuracy: 0.7654 - precision: 0.8873 - recall: 0.6549 - get_f1: 0.7515\n",
      "Epoch 4/10\n",
      "5480/5480 [==============================] - 8s 1ms/step - loss: 0.5770 - accuracy: 0.7717 - precision: 0.8911 - recall: 0.6642 - get_f1: 0.7591\n",
      "Epoch 5/10\n",
      "5480/5480 [==============================] - 8s 1ms/step - loss: 0.5621 - accuracy: 0.7759 - precision: 0.8922 - recall: 0.6693 - get_f1: 0.7629\n",
      "Epoch 6/10\n",
      "5480/5480 [==============================] - 8s 1ms/step - loss: 0.5515 - accuracy: 0.7781 - precision: 0.8933 - recall: 0.6720 - get_f1: 0.7650\n",
      "Epoch 7/10\n",
      "5480/5480 [==============================] - 8s 1ms/step - loss: 0.5440 - accuracy: 0.7811 - precision: 0.8944 - recall: 0.6767 - get_f1: 0.7685\n",
      "Epoch 8/10\n",
      "5480/5480 [==============================] - 8s 1ms/step - loss: 0.5393 - accuracy: 0.7816 - precision: 0.8965 - recall: 0.6772 - get_f1: 0.7696\n",
      "Epoch 9/10\n",
      "5480/5480 [==============================] - 8s 1ms/step - loss: 0.5337 - accuracy: 0.7828 - precision: 0.8980 - recall: 0.6792 - get_f1: 0.7715\n",
      "Epoch 10/10\n",
      "5480/5480 [==============================] - 8s 1ms/step - loss: 0.5316 - accuracy: 0.7832 - precision: 0.8971 - recall: 0.6787 - get_f1: 0.7708\n"
     ]
    },
    {
     "data": {
      "text/plain": [
       "<keras.callbacks.History at 0x27dad72ab20>"
      ]
     },
     "execution_count": 20,
     "metadata": {},
     "output_type": "execute_result"
    }
   ],
   "source": [
    "# training the model\n",
    "model.fit(input_numerical_values, output1, epochs=10)"
   ]
  },
  {
   "cell_type": "code",
   "execution_count": 21,
   "id": "cde62faa",
   "metadata": {},
   "outputs": [
    {
     "name": "stdout",
     "output_type": "stream",
     "text": [
      "Model: \"sequential_4\"\n",
      "_________________________________________________________________\n",
      " Layer (type)                Output Shape              Param #   \n",
      "=================================================================\n",
      " dense_11 (Dense)            (None, 39)                1560      \n",
      "                                                                 \n",
      " dense_12 (Dense)            (None, 17)                680       \n",
      "                                                                 \n",
      " dense_13 (Dense)            (None, 11)                198       \n",
      "                                                                 \n",
      " dense_14 (Dense)            (None, 10)                120       \n",
      "                                                                 \n",
      "=================================================================\n",
      "Total params: 2,558\n",
      "Trainable params: 2,558\n",
      "Non-trainable params: 0\n",
      "_________________________________________________________________\n"
     ]
    }
   ],
   "source": [
    "model = Sequential()\n",
    "model.add(Dense(39, input_dim=39, activation='relu'))\n",
    "model.add(Dense(17, activation='relu'))\n",
    "model.add(Dense(11, activation='relu'))\n",
    "model.add(Dense(10, activation='softmax'))\n",
    "model.compile(loss='categorical_crossentropy', optimizer='adam', metrics=['accuracy','Precision','Recall',get_f1])\n",
    "model.summary()"
   ]
  },
  {
   "cell_type": "code",
   "execution_count": 22,
   "id": "f182bfc7",
   "metadata": {},
   "outputs": [
    {
     "name": "stdout",
     "output_type": "stream",
     "text": [
      "Epoch 1/10\n",
      "5480/5480 [==============================] - 8s 1ms/step - loss: 8.3712 - accuracy: 0.7228 - precision: 0.8806 - recall: 0.5799 - get_f1: 0.6945\n",
      "Epoch 2/10\n",
      "5480/5480 [==============================] - 8s 1ms/step - loss: 0.6260 - accuracy: 0.7583 - precision: 0.8880 - recall: 0.6389 - get_f1: 0.7410\n",
      "Epoch 3/10\n",
      "5480/5480 [==============================] - 7s 1ms/step - loss: 0.6088 - accuracy: 0.7652 - precision: 0.8929 - recall: 0.6484 - get_f1: 0.7492\n",
      "Epoch 4/10\n",
      "5480/5480 [==============================] - 8s 1ms/step - loss: 0.5790 - accuracy: 0.7694 - precision: 0.8924 - recall: 0.6564 - get_f1: 0.7543\n",
      "Epoch 5/10\n",
      "5480/5480 [==============================] - 8s 1ms/step - loss: 0.5665 - accuracy: 0.7740 - precision: 0.8928 - recall: 0.6625 - get_f1: 0.7584\n",
      "Epoch 6/10\n",
      "5480/5480 [==============================] - 8s 1ms/step - loss: 0.5615 - accuracy: 0.7768 - precision: 0.8952 - recall: 0.6665 - get_f1: 0.7620\n",
      "Epoch 7/10\n",
      "5480/5480 [==============================] - 8s 1ms/step - loss: 0.5551 - accuracy: 0.7772 - precision: 0.8960 - recall: 0.6675 - get_f1: 0.7630\n",
      "Epoch 8/10\n",
      "5480/5480 [==============================] - 7s 1ms/step - loss: 0.5497 - accuracy: 0.7791 - precision: 0.8972 - recall: 0.6707 - get_f1: 0.7655\n",
      "Epoch 9/10\n",
      "5480/5480 [==============================] - 8s 1ms/step - loss: 0.5431 - accuracy: 0.7799 - precision: 0.8964 - recall: 0.6725 - get_f1: 0.7666\n",
      "Epoch 10/10\n",
      "5480/5480 [==============================] - 9s 2ms/step - loss: 0.5423 - accuracy: 0.7804 - precision: 0.8975 - recall: 0.6731 - get_f1: 0.7672\n"
     ]
    },
    {
     "data": {
      "text/plain": [
       "<keras.callbacks.History at 0x27daedda190>"
      ]
     },
     "execution_count": 22,
     "metadata": {},
     "output_type": "execute_result"
    }
   ],
   "source": [
    "# training the model\n",
    "model.fit(input_numerical_values, output1, epochs=10)"
   ]
  },
  {
   "cell_type": "code",
   "execution_count": 23,
   "id": "9cfc3bbf",
   "metadata": {},
   "outputs": [
    {
     "name": "stdout",
     "output_type": "stream",
     "text": [
      "Model: \"sequential_5\"\n",
      "_________________________________________________________________\n",
      " Layer (type)                Output Shape              Param #   \n",
      "=================================================================\n",
      " dense_15 (Dense)            (None, 39)                1560      \n",
      "                                                                 \n",
      " dense_16 (Dense)            (None, 11)                440       \n",
      "                                                                 \n",
      " dense_17 (Dense)            (None, 7)                 84        \n",
      "                                                                 \n",
      " dense_18 (Dense)            (None, 10)                80        \n",
      "                                                                 \n",
      "=================================================================\n",
      "Total params: 2,164\n",
      "Trainable params: 2,164\n",
      "Non-trainable params: 0\n",
      "_________________________________________________________________\n"
     ]
    }
   ],
   "source": [
    "model = Sequential()\n",
    "model.add(Dense(39, input_dim=39, activation='relu'))\n",
    "model.add(Dense(11, activation='relu'))\n",
    "model.add(Dense(7, activation='relu'))\n",
    "model.add(Dense(10, activation='softmax'))\n",
    "model.compile(loss='categorical_crossentropy', optimizer='adam', metrics=['accuracy','Precision','Recall',get_f1])\n",
    "model.summary()"
   ]
  },
  {
   "cell_type": "code",
   "execution_count": 24,
   "id": "d22f4e08",
   "metadata": {},
   "outputs": [
    {
     "name": "stdout",
     "output_type": "stream",
     "text": [
      "Epoch 1/10\n",
      "5480/5480 [==============================] - 8s 1ms/step - loss: 6.3788 - accuracy: 0.7078 - precision: 0.8937 - recall: 0.5385 - get_f1: 0.6642\n",
      "Epoch 2/10\n",
      "5480/5480 [==============================] - 8s 1ms/step - loss: 0.6487 - accuracy: 0.7556 - precision: 0.8939 - recall: 0.6283 - get_f1: 0.7356\n",
      "Epoch 3/10\n",
      "5480/5480 [==============================] - 8s 1ms/step - loss: 0.6117 - accuracy: 0.7632 - precision: 0.8916 - recall: 0.6440 - get_f1: 0.7458\n",
      "Epoch 4/10\n",
      "5480/5480 [==============================] - 8s 1ms/step - loss: 0.5951 - accuracy: 0.7676 - precision: 0.8893 - recall: 0.6563 - get_f1: 0.7531\n",
      "Epoch 5/10\n",
      "5480/5480 [==============================] - 8s 1ms/step - loss: 0.6238 - accuracy: 0.7693 - precision: 0.8896 - recall: 0.6613 - get_f1: 0.7567\n",
      "Epoch 6/10\n",
      "5480/5480 [==============================] - 8s 1ms/step - loss: 0.5746 - accuracy: 0.7722 - precision: 0.8943 - recall: 0.6628 - get_f1: 0.7593\n",
      "Epoch 7/10\n",
      "5480/5480 [==============================] - 8s 1ms/step - loss: 0.5672 - accuracy: 0.7735 - precision: 0.8949 - recall: 0.6653 - get_f1: 0.7611\n",
      "Epoch 8/10\n",
      "5480/5480 [==============================] - 8s 1ms/step - loss: 0.5678 - accuracy: 0.7721 - precision: 0.8953 - recall: 0.6624 - get_f1: 0.7593\n",
      "Epoch 9/10\n",
      "5480/5480 [==============================] - 8s 1ms/step - loss: 0.5595 - accuracy: 0.7765 - precision: 0.8965 - recall: 0.6682 - get_f1: 0.7637\n",
      "Epoch 10/10\n",
      "5480/5480 [==============================] - 8s 1ms/step - loss: 0.5518 - accuracy: 0.7776 - precision: 0.8971 - recall: 0.6697 - get_f1: 0.7648\n"
     ]
    },
    {
     "data": {
      "text/plain": [
       "<keras.callbacks.History at 0x27daf1fbd00>"
      ]
     },
     "execution_count": 24,
     "metadata": {},
     "output_type": "execute_result"
    }
   ],
   "source": [
    "# training the model\n",
    "model.fit(input_numerical_values, output1, epochs=10)"
   ]
  },
  {
   "cell_type": "code",
   "execution_count": 25,
   "id": "e17f8509",
   "metadata": {},
   "outputs": [
    {
     "name": "stdout",
     "output_type": "stream",
     "text": [
      "Model: \"sequential_6\"\n",
      "_________________________________________________________________\n",
      " Layer (type)                Output Shape              Param #   \n",
      "=================================================================\n",
      " dense_19 (Dense)            (None, 17)                680       \n",
      "                                                                 \n",
      " dense_20 (Dense)            (None, 11)                198       \n",
      "                                                                 \n",
      " dense_21 (Dense)            (None, 7)                 84        \n",
      "                                                                 \n",
      " dense_22 (Dense)            (None, 10)                80        \n",
      "                                                                 \n",
      "=================================================================\n",
      "Total params: 1,042\n",
      "Trainable params: 1,042\n",
      "Non-trainable params: 0\n",
      "_________________________________________________________________\n"
     ]
    }
   ],
   "source": [
    "model = Sequential()\n",
    "model.add(Dense(17, input_dim=39, activation='relu'))\n",
    "model.add(Dense(11, activation='relu'))\n",
    "model.add(Dense(7, activation='relu'))\n",
    "model.add(Dense(10, activation='softmax'))\n",
    "model.compile(loss='categorical_crossentropy', optimizer='adam', metrics=['accuracy','Precision','Recall',get_f1])\n",
    "model.summary()"
   ]
  },
  {
   "cell_type": "code",
   "execution_count": 26,
   "id": "a2dd7283",
   "metadata": {},
   "outputs": [
    {
     "name": "stdout",
     "output_type": "stream",
     "text": [
      "Epoch 1/10\n",
      "5480/5480 [==============================] - 10s 2ms/step - loss: 12.3298 - accuracy: 0.6702 - precision: 0.8806 - recall: 0.5060 - get_f1: 0.6364\n",
      "Epoch 2/10\n",
      "5480/5480 [==============================] - 9s 2ms/step - loss: 0.7810 - accuracy: 0.7332 - precision: 0.9033 - recall: 0.5675 - get_f1: 0.6940\n",
      "Epoch 3/10\n",
      "5480/5480 [==============================] - 8s 1ms/step - loss: 0.7534 - accuracy: 0.7479 - precision: 0.8802 - recall: 0.6133 - get_f1: 0.7202\n",
      "Epoch 4/10\n",
      "5480/5480 [==============================] - 8s 1ms/step - loss: 0.6601 - accuracy: 0.7528 - precision: 0.8795 - recall: 0.6368 - get_f1: 0.7365\n",
      "Epoch 5/10\n",
      "5480/5480 [==============================] - 8s 1ms/step - loss: 0.6318 - accuracy: 0.7526 - precision: 0.8865 - recall: 0.6309 - get_f1: 0.7349\n",
      "Epoch 6/10\n",
      "5480/5480 [==============================] - 8s 1ms/step - loss: 0.6137 - accuracy: 0.7616 - precision: 0.8852 - recall: 0.6387 - get_f1: 0.7398\n",
      "Epoch 7/10\n",
      "5480/5480 [==============================] - 8s 2ms/step - loss: 0.6035 - accuracy: 0.7644 - precision: 0.8867 - recall: 0.6414 - get_f1: 0.7421\n",
      "Epoch 8/10\n",
      "5480/5480 [==============================] - 8s 1ms/step - loss: 0.5956 - accuracy: 0.7667 - precision: 0.8882 - recall: 0.6458 - get_f1: 0.7457\n",
      "Epoch 9/10\n",
      "5480/5480 [==============================] - 8s 1ms/step - loss: 0.5866 - accuracy: 0.7699 - precision: 0.8885 - recall: 0.6552 - get_f1: 0.7522\n",
      "Epoch 10/10\n",
      "5480/5480 [==============================] - 8s 1ms/step - loss: 0.5812 - accuracy: 0.7711 - precision: 0.8900 - recall: 0.6576 - get_f1: 0.7541\n"
     ]
    },
    {
     "data": {
      "text/plain": [
       "<keras.callbacks.History at 0x27dad233df0>"
      ]
     },
     "execution_count": 26,
     "metadata": {},
     "output_type": "execute_result"
    }
   ],
   "source": [
    "# training the model\n",
    "model.fit(input_numerical_values, output1, epochs=10)"
   ]
  },
  {
   "cell_type": "code",
   "execution_count": 27,
   "id": "aaa5942a",
   "metadata": {},
   "outputs": [
    {
     "name": "stdout",
     "output_type": "stream",
     "text": [
      "Model: \"sequential_7\"\n",
      "_________________________________________________________________\n",
      " Layer (type)                Output Shape              Param #   \n",
      "=================================================================\n",
      " conv2d (Conv2D)             (None, 1, 37, 32)         128       \n",
      "                                                                 \n",
      " max_pooling2d (MaxPooling2D  (None, 1, 18, 32)        0         \n",
      " )                                                               \n",
      "                                                                 \n",
      " flatten (Flatten)           (None, 576)               0         \n",
      "                                                                 \n",
      " dense_23 (Dense)            (None, 128)               73856     \n",
      "                                                                 \n",
      " dense_24 (Dense)            (None, 10)                1290      \n",
      "                                                                 \n",
      "=================================================================\n",
      "Total params: 75,274\n",
      "Trainable params: 75,274\n",
      "Non-trainable params: 0\n",
      "_________________________________________________________________\n"
     ]
    }
   ],
   "source": [
    "from keras.models import Sequential\n",
    "from keras.layers import Conv2D, MaxPooling2D, Flatten, Dense\n",
    "\n",
    "data = input_numerical_values.values\n",
    "data = data.reshape(input_numerical_values.shape[0], 1, 39, 1)\n",
    "\n",
    "model = Sequential()\n",
    "model.add(Conv2D(32, kernel_size=(1, 3), activation='relu', input_shape=(1, 39, 1)))\n",
    "model.add(MaxPooling2D(pool_size=(1, 2)))\n",
    "model.add(Flatten())\n",
    "model.add(Dense(128, activation='relu'))\n",
    "model.add(Dense(10, activation='softmax'))\n",
    "model.compile(loss='categorical_crossentropy', optimizer='adam', metrics=['accuracy','Precision','Recall',get_f1])\n",
    "model.summary()"
   ]
  },
  {
   "cell_type": "code",
   "execution_count": 28,
   "id": "323d1219",
   "metadata": {},
   "outputs": [
    {
     "name": "stdout",
     "output_type": "stream",
     "text": [
      "Epoch 1/10\n",
      "5480/5480 [==============================] - 14s 2ms/step - loss: 50.7773 - accuracy: 0.7466 - precision: 0.8455 - recall: 0.6550 - get_f1: 0.7352\n",
      "Epoch 2/10\n",
      "5480/5480 [==============================] - 13s 2ms/step - loss: 0.6842 - accuracy: 0.7810 - precision: 0.8720 - recall: 0.7012 - get_f1: 0.7758\n",
      "Epoch 3/10\n",
      "5480/5480 [==============================] - 13s 2ms/step - loss: 0.6726 - accuracy: 0.7898 - precision: 0.8826 - recall: 0.7067 - get_f1: 0.7833\n",
      "Epoch 4/10\n",
      "5480/5480 [==============================] - 13s 2ms/step - loss: 0.6020 - accuracy: 0.7943 - precision: 0.8906 - recall: 0.7072 - get_f1: 0.7868\n",
      "Epoch 5/10\n",
      "5480/5480 [==============================] - 13s 2ms/step - loss: 0.5358 - accuracy: 0.7977 - precision: 0.8896 - recall: 0.7137 - get_f1: 0.7904\n",
      "Epoch 6/10\n",
      "5480/5480 [==============================] - 14s 3ms/step - loss: 0.5183 - accuracy: 0.8004 - precision: 0.8920 - recall: 0.7161 - get_f1: 0.7928\n",
      "Epoch 7/10\n",
      "5480/5480 [==============================] - 13s 2ms/step - loss: 0.5120 - accuracy: 0.8022 - precision: 0.8933 - recall: 0.7180 - get_f1: 0.7947\n",
      "Epoch 8/10\n",
      "5480/5480 [==============================] - 13s 2ms/step - loss: 0.5142 - accuracy: 0.8051 - precision: 0.8940 - recall: 0.7219 - get_f1: 0.7973\n",
      "Epoch 9/10\n",
      "5480/5480 [==============================] - 13s 2ms/step - loss: 0.5027 - accuracy: 0.8058 - precision: 0.8947 - recall: 0.7222 - get_f1: 0.7978\n",
      "Epoch 10/10\n",
      "5480/5480 [==============================] - 13s 2ms/step - loss: 0.4894 - accuracy: 0.8065 - precision: 0.8956 - recall: 0.7242 - get_f1: 0.7993\n"
     ]
    },
    {
     "data": {
      "text/plain": [
       "<keras.callbacks.History at 0x27da83c1c40>"
      ]
     },
     "execution_count": 28,
     "metadata": {},
     "output_type": "execute_result"
    }
   ],
   "source": [
    "model.fit(data, output1, epochs=10, batch_size=32)"
   ]
  },
  {
   "cell_type": "code",
   "execution_count": 29,
   "id": "a1bf0153",
   "metadata": {},
   "outputs": [
    {
     "name": "stdout",
     "output_type": "stream",
     "text": [
      "Model: \"sequential_8\"\n",
      "_________________________________________________________________\n",
      " Layer (type)                Output Shape              Param #   \n",
      "=================================================================\n",
      " conv2d_1 (Conv2D)           (None, 1, 37, 17)         68        \n",
      "                                                                 \n",
      " max_pooling2d_1 (MaxPooling  (None, 1, 18, 17)        0         \n",
      " 2D)                                                             \n",
      "                                                                 \n",
      " flatten_1 (Flatten)         (None, 306)               0         \n",
      "                                                                 \n",
      " dense_25 (Dense)            (None, 64)                19648     \n",
      "                                                                 \n",
      " dense_26 (Dense)            (None, 10)                650       \n",
      "                                                                 \n",
      "=================================================================\n",
      "Total params: 20,366\n",
      "Trainable params: 20,366\n",
      "Non-trainable params: 0\n",
      "_________________________________________________________________\n"
     ]
    }
   ],
   "source": [
    "model = Sequential()\n",
    "model.add(Conv2D(17, kernel_size=(1, 3), activation='relu', input_shape=(1, 39, 1)))\n",
    "model.add(MaxPooling2D(pool_size=(1, 2)))\n",
    "model.add(Flatten())\n",
    "model.add(Dense(64, activation='relu'))\n",
    "model.add(Dense(10, activation='softmax'))\n",
    "model.compile(loss='categorical_crossentropy', optimizer='adam', metrics=['accuracy','Precision','Recall',get_f1])\n",
    "model.summary()"
   ]
  },
  {
   "cell_type": "code",
   "execution_count": 30,
   "id": "9fb8fcee",
   "metadata": {
    "scrolled": false
   },
   "outputs": [
    {
     "name": "stdout",
     "output_type": "stream",
     "text": [
      "Epoch 1/10\n",
      "5480/5480 [==============================] - 12s 2ms/step - loss: 16.7334 - accuracy: 0.7483 - precision: 0.8601 - recall: 0.6474 - get_f1: 0.7348\n",
      "Epoch 2/10\n",
      "5480/5480 [==============================] - 11s 2ms/step - loss: 2.1474 - accuracy: 0.7821 - precision: 0.8754 - recall: 0.6969 - get_f1: 0.7744\n",
      "Epoch 3/10\n",
      "5480/5480 [==============================] - 11s 2ms/step - loss: 1.2538 - accuracy: 0.7882 - precision: 0.8813 - recall: 0.7015 - get_f1: 0.7796\n",
      "Epoch 4/10\n",
      "5480/5480 [==============================] - 11s 2ms/step - loss: 0.5398 - accuracy: 0.7939 - precision: 0.8881 - recall: 0.7085 - get_f1: 0.7867\n",
      "Epoch 5/10\n",
      "5480/5480 [==============================] - 11s 2ms/step - loss: 0.5116 - accuracy: 0.7985 - precision: 0.8916 - recall: 0.7134 - get_f1: 0.7910\n",
      "Epoch 6/10\n",
      "5480/5480 [==============================] - 11s 2ms/step - loss: 0.5036 - accuracy: 0.8013 - precision: 0.8919 - recall: 0.7178 - get_f1: 0.7939\n",
      "Epoch 7/10\n",
      "5480/5480 [==============================] - 11s 2ms/step - loss: 0.5005 - accuracy: 0.8030 - precision: 0.8929 - recall: 0.7193 - get_f1: 0.7952\n",
      "Epoch 8/10\n",
      "5480/5480 [==============================] - 11s 2ms/step - loss: 0.4966 - accuracy: 0.8041 - precision: 0.8957 - recall: 0.7199 - get_f1: 0.7968\n",
      "Epoch 9/10\n",
      "5480/5480 [==============================] - 11s 2ms/step - loss: 0.4933 - accuracy: 0.8059 - precision: 0.8958 - recall: 0.7223 - get_f1: 0.7982\n",
      "Epoch 10/10\n",
      "5480/5480 [==============================] - 11s 2ms/step - loss: 0.5069 - accuracy: 0.8069 - precision: 0.8973 - recall: 0.7231 - get_f1: 0.7993\n"
     ]
    },
    {
     "data": {
      "text/plain": [
       "<keras.callbacks.History at 0x27dae7e0af0>"
      ]
     },
     "execution_count": 30,
     "metadata": {},
     "output_type": "execute_result"
    }
   ],
   "source": [
    "model.fit(data, output1, epochs=10)"
   ]
  },
  {
   "cell_type": "code",
   "execution_count": 31,
   "id": "936ffb53",
   "metadata": {},
   "outputs": [
    {
     "name": "stdout",
     "output_type": "stream",
     "text": [
      "Model: \"sequential_9\"\n",
      "_________________________________________________________________\n",
      " Layer (type)                Output Shape              Param #   \n",
      "=================================================================\n",
      " conv2d_2 (Conv2D)           (None, 1, 37, 42)         168       \n",
      "                                                                 \n",
      " max_pooling2d_2 (MaxPooling  (None, 1, 18, 42)        0         \n",
      " 2D)                                                             \n",
      "                                                                 \n",
      " flatten_2 (Flatten)         (None, 756)               0         \n",
      "                                                                 \n",
      " dense_27 (Dense)            (None, 150)               113550    \n",
      "                                                                 \n",
      " dense_28 (Dense)            (None, 10)                1510      \n",
      "                                                                 \n",
      "=================================================================\n",
      "Total params: 115,228\n",
      "Trainable params: 115,228\n",
      "Non-trainable params: 0\n",
      "_________________________________________________________________\n"
     ]
    }
   ],
   "source": [
    "model = Sequential()\n",
    "model.add(Conv2D(42, kernel_size=(1, 3), activation='relu', input_shape=(1, 39, 1)))\n",
    "model.add(MaxPooling2D(pool_size=(1, 2)))\n",
    "model.add(Flatten())\n",
    "model.add(Dense(150, activation='relu'))\n",
    "model.add(Dense(10, activation='softmax'))\n",
    "model.compile(loss='categorical_crossentropy', optimizer='adam', metrics=['accuracy','Precision','Recall',get_f1])\n",
    "model.summary()"
   ]
  },
  {
   "cell_type": "code",
   "execution_count": 32,
   "id": "9a697dae",
   "metadata": {},
   "outputs": [
    {
     "name": "stdout",
     "output_type": "stream",
     "text": [
      "Epoch 1/10\n",
      "5480/5480 [==============================] - 16s 3ms/step - loss: 30.3787 - accuracy: 0.7494 - precision: 0.8415 - recall: 0.6677 - get_f1: 0.7420\n",
      "Epoch 2/10\n",
      "5480/5480 [==============================] - 15s 3ms/step - loss: 0.5590 - accuracy: 0.7862 - precision: 0.8722 - recall: 0.7080 - get_f1: 0.7801\n",
      "Epoch 3/10\n",
      "5480/5480 [==============================] - 15s 3ms/step - loss: 0.5513 - accuracy: 0.7920 - precision: 0.8791 - recall: 0.7165 - get_f1: 0.7879\n",
      "Epoch 4/10\n",
      "5480/5480 [==============================] - 15s 3ms/step - loss: 0.5221 - accuracy: 0.7965 - precision: 0.8854 - recall: 0.7170 - get_f1: 0.7907\n",
      "Epoch 5/10\n",
      "5480/5480 [==============================] - 15s 3ms/step - loss: 0.5167 - accuracy: 0.8011 - precision: 0.8919 - recall: 0.7186 - get_f1: 0.7944\n",
      "Epoch 6/10\n",
      "5480/5480 [==============================] - 15s 3ms/step - loss: 0.5042 - accuracy: 0.8035 - precision: 0.8947 - recall: 0.7198 - get_f1: 0.7962\n",
      "Epoch 7/10\n",
      "5480/5480 [==============================] - 15s 3ms/step - loss: 0.5292 - accuracy: 0.8047 - precision: 0.8949 - recall: 0.7229 - get_f1: 0.7981\n",
      "Epoch 8/10\n",
      "5480/5480 [==============================] - 15s 3ms/step - loss: 0.4910 - accuracy: 0.8065 - precision: 0.8956 - recall: 0.7242 - get_f1: 0.7993\n",
      "Epoch 9/10\n",
      "5480/5480 [==============================] - 15s 3ms/step - loss: 0.4904 - accuracy: 0.8074 - precision: 0.8968 - recall: 0.7250 - get_f1: 0.8004\n",
      "Epoch 10/10\n",
      "5480/5480 [==============================] - 15s 3ms/step - loss: 0.5255 - accuracy: 0.8082 - precision: 0.8958 - recall: 0.7271 - get_f1: 0.8012\n"
     ]
    },
    {
     "data": {
      "text/plain": [
       "<keras.callbacks.History at 0x27daf0420a0>"
      ]
     },
     "execution_count": 32,
     "metadata": {},
     "output_type": "execute_result"
    }
   ],
   "source": [
    "model.fit(data, output1, epochs=10)"
   ]
  },
  {
   "cell_type": "code",
   "execution_count": 33,
   "id": "f6e56bf2",
   "metadata": {},
   "outputs": [
    {
     "name": "stdout",
     "output_type": "stream",
     "text": [
      "Model: \"sequential_10\"\n",
      "_________________________________________________________________\n",
      " Layer (type)                Output Shape              Param #   \n",
      "=================================================================\n",
      " conv2d_3 (Conv2D)           (None, 1, 37, 42)         168       \n",
      "                                                                 \n",
      " max_pooling2d_3 (MaxPooling  (None, 1, 18, 42)        0         \n",
      " 2D)                                                             \n",
      "                                                                 \n",
      " flatten_3 (Flatten)         (None, 756)               0         \n",
      "                                                                 \n",
      " dense_29 (Dense)            (None, 150)               113550    \n",
      "                                                                 \n",
      " dense_30 (Dense)            (None, 15)                2265      \n",
      "                                                                 \n",
      " dense_31 (Dense)            (None, 10)                160       \n",
      "                                                                 \n",
      "=================================================================\n",
      "Total params: 116,143\n",
      "Trainable params: 116,143\n",
      "Non-trainable params: 0\n",
      "_________________________________________________________________\n"
     ]
    }
   ],
   "source": [
    "model = Sequential()\n",
    "model.add(Conv2D(42, kernel_size=(1, 3), activation='relu', input_shape=(1, 39, 1)))\n",
    "model.add(MaxPooling2D(pool_size=(1, 2)))\n",
    "model.add(Flatten())\n",
    "model.add(Dense(150, activation='relu'))\n",
    "model.add(Dense(15, activation='relu'))\n",
    "model.add(Dense(10, activation='softmax'))\n",
    "model.compile(loss='categorical_crossentropy', optimizer='adam', metrics=['accuracy','Precision','Recall',get_f1])\n",
    "model.summary()"
   ]
  },
  {
   "cell_type": "code",
   "execution_count": 34,
   "id": "24169ee9",
   "metadata": {},
   "outputs": [
    {
     "name": "stdout",
     "output_type": "stream",
     "text": [
      "Epoch 1/10\n",
      "5480/5480 [==============================] - 16s 3ms/step - loss: 1.0491 - accuracy: 0.7435 - precision: 0.8822 - recall: 0.6193 - get_f1: 0.7239\n",
      "Epoch 2/10\n",
      "5480/5480 [==============================] - 15s 3ms/step - loss: 0.5963 - accuracy: 0.7620 - precision: 0.8810 - recall: 0.6571 - get_f1: 0.7508\n",
      "Epoch 3/10\n",
      "5480/5480 [==============================] - 15s 3ms/step - loss: 0.5630 - accuracy: 0.7723 - precision: 0.8840 - recall: 0.6707 - get_f1: 0.7608\n",
      "Epoch 4/10\n",
      "5480/5480 [==============================] - 15s 3ms/step - loss: 0.5510 - accuracy: 0.7773 - precision: 0.8876 - recall: 0.6760 - get_f1: 0.7655\n",
      "Epoch 5/10\n",
      "5480/5480 [==============================] - 15s 3ms/step - loss: 0.5496 - accuracy: 0.7804 - precision: 0.8896 - recall: 0.6818 - get_f1: 0.7701\n",
      "Epoch 6/10\n",
      "5480/5480 [==============================] - 16s 3ms/step - loss: 0.5281 - accuracy: 0.7837 - precision: 0.8942 - recall: 0.6839 - get_f1: 0.7731\n",
      "Epoch 7/10\n",
      "5480/5480 [==============================] - 16s 3ms/step - loss: 0.5225 - accuracy: 0.7861 - precision: 0.8961 - recall: 0.6851 - get_f1: 0.7747\n",
      "Epoch 8/10\n",
      "5480/5480 [==============================] - 16s 3ms/step - loss: 0.5179 - accuracy: 0.7871 - precision: 0.8974 - recall: 0.6865 - get_f1: 0.7759\n",
      "Epoch 9/10\n",
      "5480/5480 [==============================] - 16s 3ms/step - loss: 0.5199 - accuracy: 0.7878 - precision: 0.8974 - recall: 0.6880 - get_f1: 0.7770\n",
      "Epoch 10/10\n",
      "5480/5480 [==============================] - 16s 3ms/step - loss: 0.5174 - accuracy: 0.7901 - precision: 0.8991 - recall: 0.6906 - get_f1: 0.7794\n"
     ]
    },
    {
     "data": {
      "text/plain": [
       "<keras.callbacks.History at 0x27db684be20>"
      ]
     },
     "execution_count": 34,
     "metadata": {},
     "output_type": "execute_result"
    }
   ],
   "source": [
    "model.fit(data, output1, epochs=10)"
   ]
  },
  {
   "cell_type": "code",
   "execution_count": 35,
   "id": "86d8bf95",
   "metadata": {},
   "outputs": [
    {
     "name": "stdout",
     "output_type": "stream",
     "text": [
      "Model: \"sequential_11\"\n",
      "_________________________________________________________________\n",
      " Layer (type)                Output Shape              Param #   \n",
      "=================================================================\n",
      " conv2d_4 (Conv2D)           (None, 1, 37, 42)         168       \n",
      "                                                                 \n",
      " max_pooling2d_4 (MaxPooling  (None, 1, 18, 42)        0         \n",
      " 2D)                                                             \n",
      "                                                                 \n",
      " flatten_4 (Flatten)         (None, 756)               0         \n",
      "                                                                 \n",
      " dense_32 (Dense)            (None, 10)                7570      \n",
      "                                                                 \n",
      "=================================================================\n",
      "Total params: 7,738\n",
      "Trainable params: 7,738\n",
      "Non-trainable params: 0\n",
      "_________________________________________________________________\n"
     ]
    }
   ],
   "source": [
    "model = Sequential()\n",
    "model.add(Conv2D(42, kernel_size=(1, 3), activation='relu', input_shape=(1, 39, 1)))\n",
    "model.add(MaxPooling2D(pool_size=(1, 2)))\n",
    "model.add(Flatten())\n",
    "model.add(Dense(10, activation='softmax'))\n",
    "model.compile(loss='categorical_crossentropy', optimizer='adam', metrics=['accuracy','Precision','Recall',get_f1])\n",
    "model.summary()"
   ]
  },
  {
   "cell_type": "code",
   "execution_count": 36,
   "id": "1df225dd",
   "metadata": {},
   "outputs": [
    {
     "name": "stdout",
     "output_type": "stream",
     "text": [
      "Epoch 1/10\n",
      "5480/5480 [==============================] - 13s 2ms/step - loss: 40.6706 - accuracy: 0.7273 - precision: 0.8383 - recall: 0.6267 - get_f1: 0.7136\n",
      "Epoch 2/10\n",
      "5480/5480 [==============================] - 12s 2ms/step - loss: 20.7099 - accuracy: 0.7594 - precision: 0.8442 - recall: 0.6877 - get_f1: 0.7566\n",
      "Epoch 3/10\n",
      "5480/5480 [==============================] - 12s 2ms/step - loss: 7.9619 - accuracy: 0.7690 - precision: 0.8515 - recall: 0.7001 - get_f1: 0.7671\n",
      "Epoch 4/10\n",
      "5480/5480 [==============================] - 12s 2ms/step - loss: 1.0633 - accuracy: 0.7758 - precision: 0.8610 - recall: 0.7028 - get_f1: 0.7725\n",
      "Epoch 5/10\n",
      "5480/5480 [==============================] - 12s 2ms/step - loss: 0.6096 - accuracy: 0.7809 - precision: 0.8691 - recall: 0.7043 - get_f1: 0.7766\n",
      "Epoch 6/10\n",
      "5480/5480 [==============================] - 12s 2ms/step - loss: 0.5710 - accuracy: 0.7832 - precision: 0.8736 - recall: 0.7083 - get_f1: 0.7808\n",
      "Epoch 7/10\n",
      "5480/5480 [==============================] - 12s 2ms/step - loss: 0.5589 - accuracy: 0.7866 - precision: 0.8751 - recall: 0.7097 - get_f1: 0.7823\n",
      "Epoch 8/10\n",
      "5480/5480 [==============================] - 12s 2ms/step - loss: 0.5494 - accuracy: 0.7888 - precision: 0.8766 - recall: 0.7127 - get_f1: 0.7847\n",
      "Epoch 9/10\n",
      "5480/5480 [==============================] - 12s 2ms/step - loss: 0.5489 - accuracy: 0.7895 - precision: 0.8785 - recall: 0.7148 - get_f1: 0.7868\n",
      "Epoch 10/10\n",
      "5480/5480 [==============================] - 12s 2ms/step - loss: 0.5378 - accuracy: 0.7913 - precision: 0.8783 - recall: 0.7168 - get_f1: 0.7879\n"
     ]
    },
    {
     "data": {
      "text/plain": [
       "<keras.callbacks.History at 0x27db7c9edc0>"
      ]
     },
     "execution_count": 36,
     "metadata": {},
     "output_type": "execute_result"
    }
   ],
   "source": [
    "model.fit(data, output1, epochs=10)"
   ]
  },
  {
   "cell_type": "code",
   "execution_count": 37,
   "id": "e568793c",
   "metadata": {},
   "outputs": [
    {
     "name": "stdout",
     "output_type": "stream",
     "text": [
      "Model: \"sequential_12\"\n",
      "_________________________________________________________________\n",
      " Layer (type)                Output Shape              Param #   \n",
      "=================================================================\n",
      " conv2d_5 (Conv2D)           (None, 1, 37, 42)         168       \n",
      "                                                                 \n",
      " flatten_5 (Flatten)         (None, 1554)              0         \n",
      "                                                                 \n",
      " dense_33 (Dense)            (None, 150)               233250    \n",
      "                                                                 \n",
      " dense_34 (Dense)            (None, 10)                1510      \n",
      "                                                                 \n",
      "=================================================================\n",
      "Total params: 234,928\n",
      "Trainable params: 234,928\n",
      "Non-trainable params: 0\n",
      "_________________________________________________________________\n"
     ]
    }
   ],
   "source": [
    "model = Sequential()\n",
    "model.add(Conv2D(42, kernel_size=(1, 3), activation='relu', input_shape=(1, 39, 1)))\n",
    "model.add(Flatten())\n",
    "model.add(Dense(150, activation='relu'))\n",
    "model.add(Dense(10, activation='softmax'))\n",
    "model.compile(loss='categorical_crossentropy', optimizer='adam', metrics=['accuracy','Precision','Recall',get_f1])\n",
    "model.summary()"
   ]
  },
  {
   "cell_type": "code",
   "execution_count": 38,
   "id": "f178f0c6",
   "metadata": {},
   "outputs": [
    {
     "name": "stdout",
     "output_type": "stream",
     "text": [
      "Epoch 1/10\n",
      "5480/5480 [==============================] - 23s 4ms/step - loss: 16.9466 - accuracy: 0.7609 - precision: 0.8511 - recall: 0.6815 - get_f1: 0.7548\n",
      "Epoch 2/10\n",
      "5480/5480 [==============================] - 22s 4ms/step - loss: 0.5343 - accuracy: 0.7905 - precision: 0.8796 - recall: 0.7127 - get_f1: 0.7859\n",
      "Epoch 3/10\n",
      "5480/5480 [==============================] - 22s 4ms/step - loss: 0.8080 - accuracy: 0.7942 - precision: 0.8835 - recall: 0.7139 - get_f1: 0.7882\n",
      "Epoch 4/10\n",
      "5480/5480 [==============================] - 22s 4ms/step - loss: 0.5200 - accuracy: 0.7987 - precision: 0.8900 - recall: 0.7164 - get_f1: 0.7922\n",
      "Epoch 5/10\n",
      "5480/5480 [==============================] - 22s 4ms/step - loss: 0.5368 - accuracy: 0.8013 - precision: 0.8933 - recall: 0.7178 - get_f1: 0.7944\n",
      "Epoch 6/10\n",
      "5480/5480 [==============================] - 22s 4ms/step - loss: 0.5766 - accuracy: 0.8038 - precision: 0.8918 - recall: 0.7230 - get_f1: 0.7970\n",
      "Epoch 7/10\n",
      "5480/5480 [==============================] - 22s 4ms/step - loss: 0.4933 - accuracy: 0.8057 - precision: 0.8950 - recall: 0.7244 - get_f1: 0.7992\n",
      "Epoch 8/10\n",
      "5480/5480 [==============================] - 22s 4ms/step - loss: 0.5575 - accuracy: 0.8067 - precision: 0.8949 - recall: 0.7269 - get_f1: 0.8007\n",
      "Epoch 9/10\n",
      "5480/5480 [==============================] - 22s 4ms/step - loss: 0.4893 - accuracy: 0.8082 - precision: 0.8980 - recall: 0.7256 - get_f1: 0.8012\n",
      "Epoch 10/10\n",
      "5480/5480 [==============================] - 22s 4ms/step - loss: 0.4995 - accuracy: 0.8091 - precision: 0.8990 - recall: 0.7273 - get_f1: 0.8025\n"
     ]
    },
    {
     "data": {
      "text/plain": [
       "<keras.callbacks.History at 0x27dbc8f8940>"
      ]
     },
     "execution_count": 38,
     "metadata": {},
     "output_type": "execute_result"
    }
   ],
   "source": [
    "model.fit(data, output1, epochs=10)"
   ]
  },
  {
   "cell_type": "code",
   "execution_count": 39,
   "id": "896eb9fe",
   "metadata": {},
   "outputs": [
    {
     "name": "stdout",
     "output_type": "stream",
     "text": [
      "Model: \"sequential_13\"\n",
      "_________________________________________________________________\n",
      " Layer (type)                Output Shape              Param #   \n",
      "=================================================================\n",
      " conv2d_6 (Conv2D)           (None, 1, 35, 42)         252       \n",
      "                                                                 \n",
      " flatten_6 (Flatten)         (None, 1470)              0         \n",
      "                                                                 \n",
      " dense_35 (Dense)            (None, 150)               220650    \n",
      "                                                                 \n",
      " dense_36 (Dense)            (None, 10)                1510      \n",
      "                                                                 \n",
      "=================================================================\n",
      "Total params: 222,412\n",
      "Trainable params: 222,412\n",
      "Non-trainable params: 0\n",
      "_________________________________________________________________\n"
     ]
    }
   ],
   "source": [
    "model = Sequential()\n",
    "model.add(Conv2D(42, kernel_size=(1, 5), activation='relu', input_shape=(1, 39, 1)))\n",
    "model.add(Flatten())\n",
    "model.add(Dense(150, activation='relu'))\n",
    "model.add(Dense(10, activation='softmax'))\n",
    "model.compile(loss='categorical_crossentropy', optimizer='adam', metrics=['accuracy','Precision','Recall',get_f1])\n",
    "model.summary()"
   ]
  },
  {
   "cell_type": "code",
   "execution_count": 40,
   "id": "104ddd00",
   "metadata": {},
   "outputs": [
    {
     "name": "stdout",
     "output_type": "stream",
     "text": [
      "Epoch 1/10\n",
      "5480/5480 [==============================] - 20s 4ms/step - loss: 23.7325 - accuracy: 0.7584 - precision: 0.8550 - recall: 0.6729 - get_f1: 0.7507\n",
      "Epoch 2/10\n",
      "5480/5480 [==============================] - 20s 4ms/step - loss: 0.6257 - accuracy: 0.7927 - precision: 0.8833 - recall: 0.7121 - get_f1: 0.7869\n",
      "Epoch 3/10\n",
      "5480/5480 [==============================] - 21s 4ms/step - loss: 0.6216 - accuracy: 0.7980 - precision: 0.8885 - recall: 0.7182 - get_f1: 0.7928\n",
      "Epoch 4/10\n",
      "5480/5480 [==============================] - 20s 4ms/step - loss: 2.3451 - accuracy: 0.7993 - precision: 0.8877 - recall: 0.7198 - get_f1: 0.7934\n",
      "Epoch 5/10\n",
      "5480/5480 [==============================] - 22s 4ms/step - loss: 0.6297 - accuracy: 0.8041 - precision: 0.8943 - recall: 0.7234 - get_f1: 0.7983\n",
      "Epoch 6/10\n",
      "5480/5480 [==============================] - 25s 5ms/step - loss: 0.5878 - accuracy: 0.8052 - precision: 0.8942 - recall: 0.7251 - get_f1: 0.7994\n",
      "Epoch 7/10\n",
      "5480/5480 [==============================] - 20s 4ms/step - loss: 0.5331 - accuracy: 0.8076 - precision: 0.8952 - recall: 0.7277 - get_f1: 0.8013\n",
      "Epoch 8/10\n",
      "5480/5480 [==============================] - 20s 4ms/step - loss: 0.8281 - accuracy: 0.8073 - precision: 0.8974 - recall: 0.7259 - get_f1: 0.8010\n",
      "Epoch 9/10\n",
      "5480/5480 [==============================] - 19s 4ms/step - loss: 0.9097 - accuracy: 0.8089 - precision: 0.8980 - recall: 0.7269 - get_f1: 0.8019\n",
      "Epoch 10/10\n",
      "5480/5480 [==============================] - 19s 4ms/step - loss: 0.5346 - accuracy: 0.8099 - precision: 0.9011 - recall: 0.7277 - get_f1: 0.8037\n"
     ]
    },
    {
     "data": {
      "text/plain": [
       "<keras.callbacks.History at 0x27dbd035340>"
      ]
     },
     "execution_count": 40,
     "metadata": {},
     "output_type": "execute_result"
    }
   ],
   "source": [
    "model.fit(data, output1, epochs=10)"
   ]
  },
  {
   "cell_type": "code",
   "execution_count": 41,
   "id": "2a163950",
   "metadata": {},
   "outputs": [
    {
     "name": "stdout",
     "output_type": "stream",
     "text": [
      "Model: \"sequential_14\"\n",
      "_________________________________________________________________\n",
      " Layer (type)                Output Shape              Param #   \n",
      "=================================================================\n",
      " conv2d_7 (Conv2D)           (None, 1, 30, 52)         572       \n",
      "                                                                 \n",
      " flatten_7 (Flatten)         (None, 1560)              0         \n",
      "                                                                 \n",
      " dense_37 (Dense)            (None, 150)               234150    \n",
      "                                                                 \n",
      " dense_38 (Dense)            (None, 10)                1510      \n",
      "                                                                 \n",
      "=================================================================\n",
      "Total params: 236,232\n",
      "Trainable params: 236,232\n",
      "Non-trainable params: 0\n",
      "_________________________________________________________________\n"
     ]
    }
   ],
   "source": [
    "model = Sequential()\n",
    "model.add(Conv2D(52, kernel_size=(1, 10), activation='relu', input_shape=(1, 39, 1)))\n",
    "model.add(Flatten())\n",
    "model.add(Dense(150, activation='relu'))\n",
    "model.add(Dense(10, activation='softmax'))\n",
    "model.compile(loss='categorical_crossentropy', optimizer='adam', metrics=['accuracy','Precision','Recall',get_f1])\n",
    "model.summary()"
   ]
  },
  {
   "cell_type": "code",
   "execution_count": 42,
   "id": "197c0980",
   "metadata": {},
   "outputs": [
    {
     "name": "stdout",
     "output_type": "stream",
     "text": [
      "Epoch 1/10\n",
      "5480/5480 [==============================] - 22s 4ms/step - loss: 21.7948 - accuracy: 0.7514 - precision: 0.8534 - recall: 0.6576 - get_f1: 0.7398\n",
      "Epoch 2/10\n",
      "5480/5480 [==============================] - 21s 4ms/step - loss: 0.8038 - accuracy: 0.7921 - precision: 0.8833 - recall: 0.7102 - get_f1: 0.7859\n",
      "Epoch 3/10\n",
      "5480/5480 [==============================] - 23s 4ms/step - loss: 1.5687 - accuracy: 0.7964 - precision: 0.8872 - recall: 0.7141 - get_f1: 0.7898\n",
      "Epoch 4/10\n",
      "5480/5480 [==============================] - 24s 4ms/step - loss: 1.0899 - accuracy: 0.7999 - precision: 0.8875 - recall: 0.7214 - get_f1: 0.7944\n",
      "Epoch 5/10\n",
      "5480/5480 [==============================] - 22s 4ms/step - loss: 0.7874 - accuracy: 0.8014 - precision: 0.8897 - recall: 0.7247 - get_f1: 0.7974\n",
      "Epoch 6/10\n",
      "5480/5480 [==============================] - 21s 4ms/step - loss: 6.9357 - accuracy: 0.7931 - precision: 0.8810 - recall: 0.7173 - get_f1: 0.7894\n",
      "Epoch 7/10\n",
      "5480/5480 [==============================] - 21s 4ms/step - loss: 1.5011 - accuracy: 0.7893 - precision: 0.8838 - recall: 0.7057 - get_f1: 0.7832\n",
      "Epoch 8/10\n",
      "5480/5480 [==============================] - 21s 4ms/step - loss: 0.6031 - accuracy: 0.7883 - precision: 0.8890 - recall: 0.6982 - get_f1: 0.7805\n",
      "Epoch 9/10\n",
      "5480/5480 [==============================] - 21s 4ms/step - loss: 0.5779 - accuracy: 0.7910 - precision: 0.8870 - recall: 0.7005 - get_f1: 0.7812\n",
      "Epoch 10/10\n",
      "5480/5480 [==============================] - 21s 4ms/step - loss: 0.5313 - accuracy: 0.7901 - precision: 0.8886 - recall: 0.6998 - get_f1: 0.7812\n"
     ]
    },
    {
     "data": {
      "text/plain": [
       "<keras.callbacks.History at 0x27dbe448430>"
      ]
     },
     "execution_count": 42,
     "metadata": {},
     "output_type": "execute_result"
    }
   ],
   "source": [
    "model.fit(data, output1, epochs=10)"
   ]
  },
  {
   "cell_type": "code",
   "execution_count": 43,
   "id": "d894d9f7",
   "metadata": {},
   "outputs": [
    {
     "name": "stdout",
     "output_type": "stream",
     "text": [
      "Model: \"sequential_15\"\n",
      "_________________________________________________________________\n",
      " Layer (type)                Output Shape              Param #   \n",
      "=================================================================\n",
      " conv2d_8 (Conv2D)           (None, 1, 38, 52)         156       \n",
      "                                                                 \n",
      " flatten_8 (Flatten)         (None, 1976)              0         \n",
      "                                                                 \n",
      " dense_39 (Dense)            (None, 150)               296550    \n",
      "                                                                 \n",
      " dense_40 (Dense)            (None, 10)                1510      \n",
      "                                                                 \n",
      "=================================================================\n",
      "Total params: 298,216\n",
      "Trainable params: 298,216\n",
      "Non-trainable params: 0\n",
      "_________________________________________________________________\n"
     ]
    }
   ],
   "source": [
    "model = Sequential()\n",
    "model.add(Conv2D(52, kernel_size=(1, 2), activation='relu', input_shape=(1, 39, 1)))\n",
    "model.add(Flatten())\n",
    "model.add(Dense(150, activation='relu'))\n",
    "model.add(Dense(10, activation='softmax'))\n",
    "model.compile(loss='categorical_crossentropy', optimizer='adam', metrics=['accuracy','Precision','Recall',get_f1])\n",
    "model.summary()"
   ]
  },
  {
   "cell_type": "code",
   "execution_count": 44,
   "id": "8911951c",
   "metadata": {},
   "outputs": [
    {
     "name": "stdout",
     "output_type": "stream",
     "text": [
      "Epoch 1/10\n",
      "5480/5480 [==============================] - 31s 6ms/step - loss: 11.7137 - accuracy: 0.7627 - precision: 0.8537 - recall: 0.6825 - get_f1: 0.7564\n",
      "Epoch 2/10\n",
      "5480/5480 [==============================] - 31s 6ms/step - loss: 0.5492 - accuracy: 0.7913 - precision: 0.8815 - recall: 0.7107 - get_f1: 0.7853\n",
      "Epoch 3/10\n",
      "5480/5480 [==============================] - 31s 6ms/step - loss: 0.5255 - accuracy: 0.7971 - precision: 0.8881 - recall: 0.7143 - get_f1: 0.7902\n",
      "Epoch 4/10\n",
      "5480/5480 [==============================] - 31s 6ms/step - loss: 0.5069 - accuracy: 0.8013 - precision: 0.8916 - recall: 0.7184 - get_f1: 0.7942\n",
      "Epoch 5/10\n",
      "5480/5480 [==============================] - 30s 5ms/step - loss: 0.5087 - accuracy: 0.8036 - precision: 0.8929 - recall: 0.7216 - get_f1: 0.7967\n",
      "Epoch 6/10\n",
      "5480/5480 [==============================] - 30s 6ms/step - loss: 0.4930 - accuracy: 0.8048 - precision: 0.8950 - recall: 0.7223 - get_f1: 0.7979\n",
      "Epoch 7/10\n",
      "5480/5480 [==============================] - 31s 6ms/step - loss: 0.5061 - accuracy: 0.8067 - precision: 0.8963 - recall: 0.7229 - get_f1: 0.7988\n",
      "Epoch 8/10\n",
      "5480/5480 [==============================] - 31s 6ms/step - loss: 0.4838 - accuracy: 0.8075 - precision: 0.8966 - recall: 0.7257 - get_f1: 0.8007\n",
      "Epoch 9/10\n",
      "5480/5480 [==============================] - 35s 6ms/step - loss: 0.4919 - accuracy: 0.8087 - precision: 0.8973 - recall: 0.7271 - get_f1: 0.8018\n",
      "Epoch 10/10\n",
      "5480/5480 [==============================] - 31s 6ms/step - loss: 0.4798 - accuracy: 0.8089 - precision: 0.8979 - recall: 0.7272 - get_f1: 0.8021\n"
     ]
    },
    {
     "data": {
      "text/plain": [
       "<keras.callbacks.History at 0x27daaf3f820>"
      ]
     },
     "execution_count": 44,
     "metadata": {},
     "output_type": "execute_result"
    }
   ],
   "source": [
    "model.fit(data, output1, epochs=10)"
   ]
  },
  {
   "cell_type": "code",
   "execution_count": 45,
   "id": "2a226fbb",
   "metadata": {},
   "outputs": [
    {
     "name": "stdout",
     "output_type": "stream",
     "text": [
      "Model: \"sequential_16\"\n",
      "_________________________________________________________________\n",
      " Layer (type)                Output Shape              Param #   \n",
      "=================================================================\n",
      " dense_41 (Dense)            (None, 150)               6000      \n",
      "                                                                 \n",
      " dense_42 (Dense)            (None, 10)                1510      \n",
      "                                                                 \n",
      "=================================================================\n",
      "Total params: 7,510\n",
      "Trainable params: 7,510\n",
      "Non-trainable params: 0\n",
      "_________________________________________________________________\n"
     ]
    }
   ],
   "source": [
    "model = Sequential()\n",
    "model.add(Dense(150, input_dim=39, activation='relu'))\n",
    "model.add(Dense(10, activation='softmax'))\n",
    "model.compile(loss='categorical_crossentropy', optimizer='adam', metrics=['accuracy','Precision','Recall',get_f1])\n",
    "model.summary()"
   ]
  },
  {
   "cell_type": "code",
   "execution_count": 46,
   "id": "774b1944",
   "metadata": {},
   "outputs": [
    {
     "name": "stdout",
     "output_type": "stream",
     "text": [
      "Epoch 1/10\n",
      "5480/5480 [==============================] - 7s 1ms/step - loss: 96.1783 - accuracy: 0.7302 - precision: 0.8602 - recall: 0.6102 - get_f1: 0.7106\n",
      "Epoch 2/10\n",
      "5480/5480 [==============================] - 6s 1ms/step - loss: 50.6764 - accuracy: 0.7665 - precision: 0.8672 - recall: 0.6715 - get_f1: 0.7552\n",
      "Epoch 3/10\n",
      "5480/5480 [==============================] - 6s 1ms/step - loss: 42.0881 - accuracy: 0.7713 - precision: 0.8612 - recall: 0.6835 - get_f1: 0.7605\n",
      "Epoch 4/10\n",
      "5480/5480 [==============================] - 6s 1ms/step - loss: 29.2569 - accuracy: 0.7793 - precision: 0.8739 - recall: 0.6909 - get_f1: 0.7702\n",
      "Epoch 5/10\n",
      "5480/5480 [==============================] - 6s 1ms/step - loss: 15.3408 - accuracy: 0.7836 - precision: 0.8773 - recall: 0.6958 - get_f1: 0.7746\n",
      "Epoch 6/10\n",
      "5480/5480 [==============================] - 6s 1ms/step - loss: 7.1027 - accuracy: 0.7886 - precision: 0.8819 - recall: 0.7024 - get_f1: 0.7804\n",
      "Epoch 7/10\n",
      "5480/5480 [==============================] - 6s 1ms/step - loss: 2.9375 - accuracy: 0.7915 - precision: 0.8850 - recall: 0.7039 - get_f1: 0.7826\n",
      "Epoch 8/10\n",
      "5480/5480 [==============================] - 6s 1ms/step - loss: 0.6714 - accuracy: 0.7921 - precision: 0.8897 - recall: 0.6955 - get_f1: 0.7789\n",
      "Epoch 9/10\n",
      "5480/5480 [==============================] - 6s 1ms/step - loss: 0.6135 - accuracy: 0.7853 - precision: 0.8886 - recall: 0.6864 - get_f1: 0.7728\n",
      "Epoch 10/10\n",
      "5480/5480 [==============================] - 6s 1ms/step - loss: 0.5561 - accuracy: 0.7898 - precision: 0.8882 - recall: 0.6933 - get_f1: 0.7770\n"
     ]
    },
    {
     "data": {
      "text/plain": [
       "<keras.callbacks.History at 0x27dac616460>"
      ]
     },
     "execution_count": 46,
     "metadata": {},
     "output_type": "execute_result"
    }
   ],
   "source": [
    "# training the model\n",
    "model.fit(input_numerical_values, output1, epochs=10)"
   ]
  },
  {
   "cell_type": "code",
   "execution_count": 47,
   "id": "232dcd19",
   "metadata": {},
   "outputs": [],
   "source": [
    "from keras.layers import Input, Dense, Attention, dot\n",
    "from keras.models import Model\n",
    "\n",
    "data = input_numerical_values.values\n",
    "\n",
    "query_data = data[:,:19].reshape(input_numerical_values.shape[0], 1, 19)\n",
    "key_data = data[:,19:28].reshape(input_numerical_values.shape[0], 1, 9)\n",
    "value_data = data[:,28:].reshape(input_numerical_values.shape[0], 1, 11)\n",
    "\n",
    "query_input = Input(shape=(1, 19))\n",
    "key_input = Input(shape=(1, 9))\n",
    "value_input = Input(shape=(1, 11))\n",
    "\n",
    "query = Dense(128, activation='relu')(query_input)\n",
    "key = Dense(128, activation='relu')(key_input)\n",
    "value = Dense(128, activation='relu')(value_input)\n",
    "\n",
    "attention = Attention(10)([query, key, value])\n",
    "outputs = Dense(10, activation='softmax')(attention)\n",
    "model = Model(inputs=[query_input, key_input, value_input], outputs=outputs)\n",
    "model.compile(loss='categorical_crossentropy', optimizer='adam', metrics=['accuracy','Precision','Recall',get_f1])"
   ]
  }
 ],
 "metadata": {
  "kernelspec": {
   "display_name": "Python 3 (ipykernel)",
   "language": "python",
   "name": "python3"
  },
  "language_info": {
   "codemirror_mode": {
    "name": "ipython",
    "version": 3
   },
   "file_extension": ".py",
   "mimetype": "text/x-python",
   "name": "python",
   "nbconvert_exporter": "python",
   "pygments_lexer": "ipython3",
   "version": "3.8.0"
  }
 },
 "nbformat": 4,
 "nbformat_minor": 5
}
